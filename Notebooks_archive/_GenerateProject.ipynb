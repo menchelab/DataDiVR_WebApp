{
 "cells": [
  {
   "attachments": {},
   "cell_type": "markdown",
   "metadata": {
    "tags": []
   },
   "source": [
    "# generate / update a DataDiVR backend project "
   ]
  },
  {
   "cell_type": "code",
   "execution_count": null,
   "metadata": {},
   "outputs": [],
   "source": [
    "# functions to mimick uploading process (generate folders, files on the backend)\n",
    "\n",
    "# PROCESS STEPS \n",
    "# do something with a Graph \n",
    "# generate JSON files per layout for the Graph (temporary solution?)\n",
    "# use those JSON to generate folders, files like textures, nodes.json, links.json etc.. "
   ]
  },
  {
   "cell_type": "code",
   "execution_count": null,
   "metadata": {},
   "outputs": [],
   "source": [
    "# some functions : \n",
    "\n",
    "import networkx as nx\n",
    "import random\n",
    "import json\n",
    "\n",
    "def generate_random_rgba():\n",
    "    red = random.randint(0, 255)\n",
    "    green = random.randint(0, 255)\n",
    "    blue = random.randint(0, 255)\n",
    "    alpha = random.randint(0, 255)  # Random alpha value between 0 and 1\n",
    "    \n",
    "    rgba_color = (red, green, blue, alpha)\n",
    "    return rgba_color\n",
    "\n",
    "\n",
    "def rgba_to_hex8(rgba_color):\n",
    "    # Convert values to hexadecimal and format them\n",
    "    hex_red = format(rgba_color[0], '02X')\n",
    "    hex_green = format(rgba_color[1], '02X')\n",
    "    hex_blue = format(rgba_color[2], '02X')\n",
    "    hex_alpha = format(rgba_color[3], '02X')\n",
    "    \n",
    "    # Combine values into an 8-character hexadecimal color code\n",
    "    color_hex = f\"#{hex_red}{hex_green}{hex_blue}{hex_alpha}\"\n",
    "    \n",
    "    return color_hex\n"
   ]
  },
  {
   "cell_type": "code",
   "execution_count": null,
   "metadata": {},
   "outputs": [],
   "source": [
    "# generate a graph \n",
    "\n",
    "G = nx.karate_club_graph()\n",
    "print(\"Number of nodes: \", len(G.nodes()))\n",
    "print(\"Number of Links: \", len(G.edges()))\n",
    "\n",
    "nx.draw(G)"
   ]
  },
  {
   "cell_type": "code",
   "execution_count": null,
   "metadata": {},
   "outputs": [],
   "source": [
    "# generate graph layouts i.e. node positions \n",
    "posG3D_1_pre = nx.spring_layout(G, dim=3, k=0.1, iterations=100)\n",
    "posG3D_1 = {key: value.tolist() for key, value in posG3D_1_pre.items()}\n",
    "\n",
    "posG3D_2_pre = nx.spring_layout(G, dim=3, k=0.1, iterations=200)\n",
    "posG3D_2= {key: value.tolist() for key, value in posG3D_2_pre.items()}\n",
    "\n",
    "posG3D_3_pre =nx.spring_layout(G, dim=3, k=0.1, iterations=500)\n",
    "posG3D_3 = {key: value.tolist() for key, value in posG3D_3_pre.items()}"
   ]
  },
  {
   "cell_type": "code",
   "execution_count": null,
   "metadata": {},
   "outputs": [],
   "source": [
    "# hex color values \n",
    "d_nodecolors_hex = dict(zip(G.nodes(),['#FF2300']*len(G.nodes())))\n",
    "l_linkcolors_hex = '#ff0000'\n",
    "\n",
    "# rgba color values\n",
    "d_nodecolors_rgba = dict(zip(G.nodes(),[(255,35,0,120)]*len(G.nodes())))\n",
    "l_linkcolors_rgba = (0,255,0,100)\n",
    "\n",
    "# hex8 color values\n",
    "d_nodecolors_hex8 = dict(zip(G.nodes(),['#0000ffaa']*len(G.nodes())))\n",
    "l_linkcolors_hex8 = '#0080ffaa'"
   ]
  },
  {
   "cell_type": "markdown",
   "metadata": {},
   "source": [
    "### JSON "
   ]
  },
  {
   "cell_type": "code",
   "execution_count": null,
   "metadata": {},
   "outputs": [],
   "source": [
    "import json"
   ]
  },
  {
   "cell_type": "code",
   "execution_count": null,
   "metadata": {},
   "outputs": [],
   "source": [
    "# ===============================================\n",
    "# NODE ANNOTATION - a list of strings\n",
    "# ===============================================\n",
    "\n",
    "# new annotation format: \n",
    "\"\"\" \n",
    "\t\"nodes\": [\n",
    "\t\t{\n",
    "\t\t\t\"pos\": [\n",
    "\t\t\t\t20.157665194728846,\n",
    "\t\t\t\t19.08545649237665,\n",
    "\t\t\t\t10.958288870722058\n",
    "\t\t\t],\n",
    "\t\t\t\"cluster\": \"cluster: 0\",\n",
    "\t\t\t\"nodecolor\": \"#1f77b4\",\n",
    "\t\t\t\"annotation\": {\n",
    "\t\t\t\t\"Movies\": [\n",
    "\t\t\t\t\t\"The Dark Knight\",\n",
    "\t\t\t\t\t\"The Dark Knight Rises\"\n",
    "\t\t\t\t],\n",
    "\t\t\t\t\"Genres\": [\n",
    "\t\t\t\t\t\"Drama\",\n",
    "\t\t\t\t\t\"Thriller\",\n",
    "\t\t\t\t\t\"Action\",\n",
    "\t\t\t\t\t\"Crime\"\n",
    "\t\t\t\t]\n",
    "\t\t\t},\n",
    "\t\t\t\"id\": 0,\n",
    "\t\t\t\"name\": \"Aaron Eckhart\"\n",
    "\t\t}, \"\"\"\n",
    "\n",
    "# --------------------------------------------------------------------\n",
    "#\n",
    "# TO DO : INCORPORATE NEW ANNOTATIONS FORMAT INTO THE GRAPH\n",
    "#\n",
    "# --------------------------------------------------------------------\n",
    "\n",
    "l_annotations_json = []\n",
    "for g in G.nodes():\n",
    "    sublist = [\"Node: \"+str(g)]\n",
    "    l_annotations_json.append(sublist)\n",
    "        \n",
    "d_annotations = dict(zip(G.nodes(), l_annotations_json))\n",
    "nx.set_node_attributes(G, d_annotations, name=\"annotation\")\n",
    "\n",
    "\n",
    "\n",
    "\n",
    "\n",
    "# ===============================================\n",
    "# GRAPH NAME AND DESCRIPTION - a string each\n",
    "# ===============================================\n",
    "\n",
    "G.graph['graphtitle']  = \"Zachary Karateclub Graph\"\n",
    "G.graph['graphdesc'] = \"A toy graph for testing purposes. Number of nodes: \"+str(len(G.nodes()))+\", Links: \"+ str(len(G.edges()))+\".\"\n",
    "\n",
    "# ===============================================\n",
    "# NODE COLORS - a dict with keys = node id as in G.nodes and values = color as hex or rgba\n",
    "# LINK COLORS - a list of hex or rgba colors per edge as in G.edges or one color for all edges\n",
    "# ===============================================\n",
    "#                     a n d \n",
    "# ===============================================\n",
    "# NODE POSITIONS - a dict with keys = G.nodes and values = coordinates (x,y) or (x,y,z)\n",
    "# ===============================================\n",
    "\n",
    "# first Layout - rgba\n",
    "G_rgba = G.copy()\n",
    "G_rgba.name = '01-graph-rgbacolors'\n",
    "nx.set_node_attributes(G_rgba, d_nodecolors_rgba, name=\"nodecolor\")\n",
    "nx.set_edge_attributes(G_rgba, l_linkcolors_rgba, name=\"linkcolor\")\n",
    "nx.set_node_attributes(G_rgba, posG3D_1, name=\"pos\")\n",
    "\n",
    "# second Layout - hex\n",
    "G_hex = G.copy()\n",
    "G_hex.name = '02-graph-hexcolors'\n",
    "nx.set_node_attributes(G_hex, d_nodecolors_hex, name=\"nodecolor\")\n",
    "nx.set_edge_attributes(G_hex, l_linkcolors_hex, name=\"linkcolor\")\n",
    "nx.set_node_attributes(G_hex, posG3D_2, name=\"pos\")\n",
    "\n",
    "# third Layout - hex8\n",
    "G_hex8 = G.copy()\n",
    "G_hex8.name = '03-graph-hex8colors'\n",
    "nx.set_node_attributes(G_hex8, d_nodecolors_hex8, name=\"nodecolor\")\n",
    "nx.set_edge_attributes(G_hex8, l_linkcolors_hex8, name=\"linkcolor\")\n",
    "nx.set_node_attributes(G_hex8, posG3D_3, name=\"pos\")\n",
    "\n",
    "\n",
    "# fourth layout - cluster key next level communities\n",
    "# artifical groups of graph for cluster colors \n",
    "G_clusters = G.copy()\n",
    "G_clusters.name = '04-graph-clustershex8colors'\n",
    "\n",
    "\n",
    "clustername_1 = 'group 1'\n",
    "clustername_2 = 'group 2'\n",
    "clustername_3 = 'group 3'\n",
    "\n",
    "# nodes into groups\n",
    "for g in G_clusters.nodes():\n",
    "    if g < len(G_clusters.nodes()) / 3:\n",
    "        G_clusters.nodes[g]['cluster'] = clustername_1\n",
    "    elif g < 2 * len(G_clusters.nodes()) / 3:\n",
    "        G_clusters.nodes[g]['cluster'] = clustername_2\n",
    "    else:\n",
    "        G_clusters.nodes[g]['cluster'] = clustername_3\n",
    "\n",
    "# node colors \n",
    "d_nodecolors_clusters = {}\n",
    "nodes_group1 = []\n",
    "nodes_group2 = []\n",
    "nodes_group3 = []\n",
    "for n in G_clusters.nodes(): \n",
    "    if G_clusters.nodes[n]['cluster'] == clustername_1:\n",
    "        d_nodecolors_clusters[n] = '#0000ffaa'\n",
    "        nodes_group1.append(n)\n",
    "    elif G_clusters.nodes[n]['cluster'] == clustername_2:\n",
    "        d_nodecolors_clusters[n] = '#00ff00aa'\n",
    "        nodes_group2.append(n)\n",
    "    elif G_clusters.nodes[n]['cluster'] == clustername_3:\n",
    "        d_nodecolors_clusters[n] = '#ff0000aa'\n",
    "        nodes_group3.append(n)\n",
    "\n",
    "# link colors\n",
    "d_linkcolors_clusters = {}\n",
    "for edge in G_clusters.edges():\n",
    "    if edge[0] in nodes_group1 and edge[1] in nodes_group1:\n",
    "        d_linkcolors_clusters[edge] = '#0000ffaa'\n",
    "       \n",
    "    elif edge[0] in nodes_group2 and edge[1] in nodes_group2:\n",
    "        d_linkcolors_clusters[edge] = '#00ff00aa'\n",
    "       \n",
    "    elif edge[0] in nodes_group3 and edge[1] in nodes_group3:\n",
    "        d_linkcolors_clusters[edge] = '#ff0000aa'\n",
    "       \n",
    "    else:\n",
    "        d_linkcolors_clusters[edge] = '#B1B1B150'\n",
    "\n",
    "l_linkcolors_clusters = list(d_linkcolors_clusters.values())\n",
    "\n",
    "nx.set_node_attributes(G_clusters, d_nodecolors_clusters, name=\"nodecolor\")\n",
    "nx.set_node_attributes(G_clusters, posG3D_2, name=\"pos\") # reuse the second layout\n",
    "nx.set_edge_attributes(G_clusters, {edge: color for edge, color in zip(G_clusters.edges(), l_linkcolors_clusters)}, \"linkcolor\")\n"
   ]
  },
  {
   "cell_type": "markdown",
   "metadata": {},
   "source": [
    "+ the above cells are unfinished and the graph json creation process should be adapted to the new json format"
   ]
  },
  {
   "cell_type": "code",
   "execution_count": null,
   "metadata": {},
   "outputs": [],
   "source": []
  },
  {
   "cell_type": "code",
   "execution_count": null,
   "metadata": {},
   "outputs": [],
   "source": []
  },
  {
   "cell_type": "code",
   "execution_count": null,
   "metadata": {},
   "outputs": [],
   "source": []
  },
  {
   "cell_type": "code",
   "execution_count": null,
   "metadata": {},
   "outputs": [],
   "source": []
  },
  {
   "cell_type": "markdown",
   "metadata": {},
   "source": [
    "# process a pre-defined json file: \n",
    "\n",
    "+ make json or dict? \n",
    "+ pull backend from github\n",
    "+ open a notebook where you process the data you want to explore in the VR and save it as a json file\n",
    "+ locate the notebook in the \"DataDiVR_webapp\" folder called \"_GenerateProject.ipynb\"\n",
    "+ in this notebook : from DataDiVR_webapp import \"the upload functions\"\n",
    "+ in this notebook : call the uploading function (as in cells below) and fill in your data object \n",
    "+ it automatically generates a folder with all files, subfolders in your backend path"
   ]
  },
  {
   "cell_type": "code",
   "execution_count": 3,
   "metadata": {},
   "outputs": [],
   "source": [
    "import json\n",
    "import glob\n",
    "\n",
    "def transform_annotation(annotation_list):\n",
    "    \"\"\"\n",
    "    Transforms a list containing a single string of annotations into a dictionary.\n",
    "    The string is expected to contain annotations separated by '/',\n",
    "    with each annotation in the format 'key: value'.\n",
    "    Example input: ['ID: 1/degree: 10']\n",
    "    Example output: {'ID': '1', 'degree': '10'}\n",
    "    \"\"\"\n",
    "    annotation_dict = {}\n",
    "    if annotation_list:  # Check if the list is not empty\n",
    "        annotations = annotation_list[0].split('/')\n",
    "        for annotation in annotations:\n",
    "            key, value = annotation.split(': ', 1)  # Split on the first occurrence of ': '\n",
    "            annotation_dict[key.strip()] = value.strip()\n",
    "    return annotation_dict\n",
    "\n",
    "def merge_json_files(file_paths):\n",
    "    all_nodes = []\n",
    "    all_links = []\n",
    "    layouts = []\n",
    "\n",
    "    for file_path in file_paths:\n",
    "        with open(file_path, 'r') as file:\n",
    "            data = json.load(file)\n",
    "\n",
    "            # Process nodes for global and layout-specific lists\n",
    "            for node in data[\"nodes\"]:\n",
    "                if \"annotation\" in node and isinstance(node[\"annotation\"], list):\n",
    "                    node[\"annotation\"] = transform_annotation(node[\"annotation\"])\n",
    "                all_nodes.append({'id': node['id'], 'annotation': node.get('annotation', {})})\n",
    "\n",
    "            # Process links for global list, now with separate source and target\n",
    "            for link in data[\"links\"]:\n",
    "                all_links.append({\n",
    "                    #'w': link['weight'],\n",
    "                    'source': link['source'],\n",
    "                    'target': link['target']\n",
    "                })\n",
    "\n",
    "            # Prepare layout-specific nodes and links\n",
    "            layout_nodes = [{'nodecolor': node.get('nodecolor', ''),\n",
    "                             'pos': node.get('pos', []),\n",
    "                             'id': node['id']} for node in data[\"nodes\"]]\n",
    "            layout_links = [{'linkcolor': link.get('linkcolor', ''),\n",
    "                             'source': link['source'],\n",
    "                             'target': link['target']} for link in data[\"links\"]]\n",
    "\n",
    "            layouts.append({'nodes': layout_nodes, 'links': layout_links})\n",
    "\n",
    "    # Use the structure of the first file as the base for the merged structure\n",
    "    merged_structure = {}\n",
    "    if file_paths:\n",
    "        with open(file_paths[0], 'r') as file:\n",
    "            base_structure = json.load(file)\n",
    "            # Keep only the top-level keys except \"nodes\" and \"links\"\n",
    "            for key in ['directed', 'multigraph', 'graph']:\n",
    "                merged_structure[key] = base_structure.get(key)\n",
    "\n",
    "    # Add the global nodes and links, and the layouts to the merged structure\n",
    "    merged_structure['nodes'] = all_nodes\n",
    "    merged_structure['links'] = all_links\n",
    "    merged_structure['layouts'] = layouts\n",
    "\n",
    "    return merged_structure"
   ]
  },
  {
   "cell_type": "code",
   "execution_count": 4,
   "metadata": {},
   "outputs": [
    {
     "name": "stdout",
     "output_type": "stream",
     "text": [
      "Merged JSON saved as 'merged.json'.\n"
     ]
    }
   ],
   "source": [
    "folder = \"temp_upload_data/barbell/\"\n",
    "file_paths = glob.glob(folder + '*.json')  # Update this path\n",
    "merged_json = merge_json_files(file_paths)\n",
    "\n",
    "# Save the merged JSON to a file\n",
    "with open(folder + 'merged.json', 'w') as outfile:\n",
    "    json.dump(merged_json, outfile, indent=4)\n",
    "\n",
    "print(\"Merged JSON saved as 'merged.json'.\")"
   ]
  },
  {
   "cell_type": "markdown",
   "metadata": {},
   "source": [
    "## Produce Files for a DataDiVR Project "
   ]
  },
  {
   "cell_type": "code",
   "execution_count": 1,
   "metadata": {},
   "outputs": [],
   "source": [
    "import json \n",
    "temp_folder = \"temp_upload_data/\"\n",
    "file = \"merged.json\" \n",
    "\n",
    "with open (temp_folder+file, \"r\") as f:\n",
    "    data = json.load(f)"
   ]
  },
  {
   "cell_type": "code",
   "execution_count": 2,
   "metadata": {},
   "outputs": [
    {
     "name": "stdout",
     "output_type": "stream",
     "text": [
      "C_DEBUG: upload via Notebook function.\n",
      "Successfully created the directory static/projects/Sphere-100nodes \n",
      "hight is 128\n",
      "hight is 128\n",
      "hight is 128\n",
      "hight is 128\n",
      "C_DEBUG: project does not contain labels/clusters.\n",
      "hight is 128\n",
      "hight is 128\n",
      "hight is 128\n",
      "hight is 128\n",
      "image hight = 64\n",
      "image hight = 64\n",
      "image hight = 64\n",
      "image hight = 64\n",
      "['Barbellgraph', 'JSON_autocore', 'JSON_barbellgraph', 'JSON_Zachary', 'Sphere-100nodes']\n"
     ]
    },
    {
     "data": {
      "text/plain": [
       "'<a style=\"color:green;\">SUCCESS </a>LayoutID0 Node Textures Created<br><a style=\"color:green;\">SUCCESS </a>LayoutID1 Node Textures Created<br><a style=\"color:green;\">SUCCESS </a>LayoutID2 Node Textures Created<br><a style=\"color:green;\">SUCCESS </a>LayoutID3 Node Textures Created<br><a style=\"color:green;\">SUCCESS </a>LayoutID0 Node Textures Created<br><a style=\"color:green;\">SUCCESS </a>LayoutID1 Node Textures Created<br><a style=\"color:green;\">SUCCESS </a>LayoutID2 Node Textures Created<br><a style=\"color:green;\">SUCCESS </a>LayoutID3 Node Textures Created<br><a style=\"color:green;\">SUCCESS </a>LayoutID0 Link Textures Created<br><a style=\"color:green;\">SUCCESS </a>LayoutID1 Link Textures Created<br><a style=\"color:green;\">SUCCESS </a>LayoutID2 Link Textures Created<br><a style=\"color:green;\">SUCCESS </a>LayoutID3 Link Textures Created<br><a style=\"color:green;\">SUCCESS </a>LayoutID0_links Link Textures Created<br><a style=\"color:green;\">SUCCESS </a>LayoutID1_links Link Textures Created<br><a style=\"color:green;\">SUCCESS </a>LayoutID2_links Link Textures Created<br><a style=\"color:green;\">SUCCESS </a>LayoutID3_links Link Textures Created<br>'"
      ]
     },
     "execution_count": 2,
     "metadata": {},
     "output_type": "execute_result"
    }
   ],
   "source": [
    "from uploaderGraph import *\n",
    "from uploader import *\n",
    "\n",
    "upload_filesJSON(data)"
   ]
  },
  {
   "cell_type": "code",
   "execution_count": null,
   "metadata": {},
   "outputs": [],
   "source": []
  },
  {
   "cell_type": "code",
   "execution_count": null,
   "metadata": {},
   "outputs": [],
   "source": []
  },
  {
   "cell_type": "code",
   "execution_count": null,
   "metadata": {},
   "outputs": [],
   "source": []
  }
 ],
 "metadata": {
  "colab": {
   "name": "hypersphere_datanet.ipynb",
   "provenance": []
  },
  "kernelspec": {
   "display_name": "venv",
   "language": "python",
   "name": "python3"
  },
  "language_info": {
   "codemirror_mode": {
    "name": "ipython",
    "version": 3
   },
   "file_extension": ".py",
   "mimetype": "text/x-python",
   "name": "python",
   "nbconvert_exporter": "python",
   "pygments_lexer": "ipython3",
   "version": "3.9.13"
  }
 },
 "nbformat": 4,
 "nbformat_minor": 4
}
