{
 "cells": [
  {
   "attachments": {},
   "cell_type": "markdown",
   "metadata": {
    "tags": []
   },
   "source": [
    "# TEAPOT"
   ]
  },
  {
   "cell_type": "code",
   "execution_count": 1,
   "metadata": {},
   "outputs": [],
   "source": [
    "import networkx as nx\n",
    "import json \n",
    "import os\n",
    "import pandas as pd\n",
    "\n",
    "# these are the two functions one needs to create a JSON file to upload and create the project in the backend \n",
    "import nx2json as nx2j \n",
    "import uploaderGraph as uG"
   ]
  },
  {
   "cell_type": "code",
   "execution_count": 2,
   "metadata": {},
   "outputs": [
    {
     "name": "stdout",
     "output_type": "stream",
     "text": [
      "Number of nodes:  51361\n",
      "Number of Links:  102560\n"
     ]
    }
   ],
   "source": [
    "G = nx.read_edgelist(\"teapot40_links.csv\", delimiter=',', nodetype=int)\n",
    "print(\"Number of nodes: \", len(G.nodes()))\n",
    "print(\"Number of Links: \", len(G.edges()))\n",
    "\n",
    "# ===============================================\n",
    "# GRAPH NAME AND DESCRIPTION - a string each\n",
    "# ===============================================\n",
    "\n",
    "G.graph['projectname'] = \"Teapot\"\n",
    "G.graph['info'] = \"A toy graph for testing purposes. Number of nodes: \"+str(len(G.nodes()))+\", Links: \"+ str(len(G.edges()))+\".\"\n",
    "\n",
    "nodepos = pd.read_csv(\"teapot40_nodes.csv\", delimiter=',',header =None)\n",
    "pos = dict(zip(G.nodes(), zip(nodepos[0], nodepos[1], nodepos[2])))\n",
    "pos2 = dict(zip(G.nodes(), zip(nodepos[0], nodepos[2], nodepos[1])))\n",
    "pos3 = dict(zip(G.nodes(), zip(nodepos[2], nodepos[1],nodepos[0],)))"
   ]
  },
  {
   "cell_type": "markdown",
   "metadata": {},
   "source": [
    "### create node anntotations"
   ]
  },
  {
   "cell_type": "code",
   "execution_count": 3,
   "metadata": {},
   "outputs": [],
   "source": [
    "import random \n",
    "def generate_random_words(num):\n",
    "    words = [\"alpha\", \"beta\", \"gamma\", \"delta\", \"epsilon\", \"zeta\", \"theta\", \"lambda\", \"mu\", \"nu\"]\n",
    "    return random.sample(words, num)\n",
    "\n",
    "# Create a list to hold annotations in JSON format\n",
    "l_annotations_json = []\n",
    "\n",
    "# Process each node in the graph\n",
    "for g in G.nodes():\n",
    "    # Generate random annotations\n",
    "    annotations = {\n",
    "        \"annot1\": generate_random_words(random.randint(3, 4)),\n",
    "        \"annot2\": generate_random_words(random.randint(1, 2)),\n",
    "        \"annot3\": generate_random_words(random.randint(2, 3))\n",
    "    }\n",
    "    \n",
    "    l_annotations_json.append(annotations)\n",
    "\n",
    "# Create a dictionary mapping nodes to their annotations\n",
    "d_annotations = dict(zip(G.nodes(), l_annotations_json))\n",
    "\n",
    "# Set the node attributes in the graph\n",
    "nx.set_node_attributes(G, d_annotations, name=\"annotation\")\n"
   ]
  },
  {
   "cell_type": "markdown",
   "metadata": {},
   "source": [
    "### create node positions and set as \"pos\" Graph attribute \n",
    "here are 3 different layouts, which all are stored in unique nx.Graph-objects (G_rgba, G_hex, ....)"
   ]
  },
  {
   "cell_type": "code",
   "execution_count": 4,
   "metadata": {},
   "outputs": [],
   "source": [
    "# First layout (i.e. Graph 1)\n",
    "G_1 = G.copy()\n",
    "G_1.graph[\"layoutname\"] ='layout1-teapot'\n",
    "nx.set_node_attributes(G_1, pos, name=\"pos\")\n",
    "\n",
    "# Second layout (i.e. Graph 2)\n",
    "G_2 = G.copy()\n",
    "G_2.graph[\"layoutname\"] = 'layout2-teapot'\n",
    "nx.set_node_attributes(G_2, pos2, name=\"pos\")\n",
    "\n",
    "\n",
    "# Second layout (i.e. Graph 2)\n",
    "G_3 = G.copy()\n",
    "G_3.graph[\"layoutname\"] = 'layout3-teapot'\n",
    "nx.set_node_attributes(G_3, pos3, name=\"pos\")"
   ]
  },
  {
   "cell_type": "markdown",
   "metadata": {},
   "source": [
    "#### node and link colors "
   ]
  },
  {
   "cell_type": "code",
   "execution_count": 5,
   "metadata": {},
   "outputs": [
    {
     "name": "stdout",
     "output_type": "stream",
     "text": [
      "Number of links before dropping:  102560\n",
      "Number of links after dropping:  34187\n"
     ]
    },
    {
     "name": "stderr",
     "output_type": "stream",
     "text": [
      "/var/folders/ln/rnln21vd6jn23nm9wwr0jgs00000gn/T/ipykernel_11277/1815435581.py:4: DeprecationWarning: Sampling from a set deprecated\n",
      "since Python 3.9 and will be removed in a subsequent version.\n",
      "  remove_links = random.sample(G_1.edges(), int(len(G_1.edges())*2/3))\n"
     ]
    },
    {
     "name": "stdout",
     "output_type": "stream",
     "text": [
      "Number of links before dropping:  102560\n"
     ]
    },
    {
     "name": "stderr",
     "output_type": "stream",
     "text": [
      "/var/folders/ln/rnln21vd6jn23nm9wwr0jgs00000gn/T/ipykernel_11277/1815435581.py:16: DeprecationWarning: Sampling from a set deprecated\n",
      "since Python 3.9 and will be removed in a subsequent version.\n",
      "  remove_links = random.sample(G_3.edges(), int(len(G_3.edges())*0.999))\n"
     ]
    },
    {
     "name": "stdout",
     "output_type": "stream",
     "text": [
      "Number of links after dropping:  103\n"
     ]
    }
   ],
   "source": [
    "d_nodecolors1 = {node: (255, 0, 0, 200) for node in G_1.nodes()}\n",
    "nx.set_node_attributes(G_1, d_nodecolors1, name=\"nodecolor\")\n",
    "print(\"Number of links before dropping: \", len(G_1.edges()))\n",
    "remove_links = random.sample(G_1.edges(), int(len(G_1.edges())*2/3))\n",
    "G_1.remove_edges_from(remove_links)\n",
    "print(\"Number of links after dropping: \", len(G_1.edges()))\n",
    "nx.set_edge_attributes(G_1, {edge: (255, 0, 0, 200) for edge in G_1.edges()}, name=\"linkcolor\")\n",
    "\n",
    "d_nodecolors2 = {node:  (0, 255, 0 , 200) for node in G_2.nodes()}\n",
    "nx.set_node_attributes(G_2, d_nodecolors2, name=\"nodecolor\")\n",
    "nx.set_edge_attributes(G_2, {edge: (0, 255, 0 , 200) for edge in G_2.edges()}, name=\"linkcolor\")\n",
    "\n",
    "d_nodecolors3 = {node:  (0, 0 , 255, 200) for node in G_3.nodes()}\n",
    "nx.set_node_attributes(G_3, d_nodecolors3, name=\"nodecolor\")\n",
    "print(\"Number of links before dropping: \", len(G_3.edges()))\n",
    "remove_links = random.sample(G_3.edges(), int(len(G_3.edges())*0.999))\n",
    "G_3.remove_edges_from(remove_links)\n",
    "print(\"Number of links after dropping: \", len(G_3.edges()))\n",
    "nx.set_edge_attributes(G_3, {edge: (255, 0, 0, 200) for edge in G_3.edges()}, name=\"linkcolor\")"
   ]
  },
  {
   "cell_type": "code",
   "execution_count": 6,
   "metadata": {},
   "outputs": [],
   "source": [
    "# # dropping random links in a graph \n",
    "# num_links_to_drop = int(len(list(G_rgba.edges()))*0.5)\n",
    "# links_to_drop = random.sample(list(G_rgba.edges()), num_links_to_drop)\n",
    "# G_rgba.remove_edges_from(links_to_drop)\n",
    "# print(\"Number of links after dropping: \", len(G_rgba.edges()))\n",
    "\n",
    "# num_links_to_drop = int(len(list(G_hex.edges()))*0.7) \n",
    "# links_to_drop = random.sample(list(G_hex.edges()), num_links_to_drop)\n",
    "# G_hex.remove_edges_from(links_to_drop)\n",
    "# print(\"Number of links after dropping: \", len(G_hex.edges()))\n",
    "\n",
    "# num_links_to_drop = int(len(list(G_clusters.edges()))*0.9) \n",
    "# links_to_drop = random.sample(list(G_clusters.edges()), num_links_to_drop)\n",
    "# G_clusters.remove_edges_from(links_to_drop)\n",
    "# print(\"Number of links after dropping: \", len(G_clusters.edges()))"
   ]
  },
  {
   "cell_type": "markdown",
   "metadata": {},
   "source": [
    "### merge Graph files into one and store as a json file"
   ]
  },
  {
   "cell_type": "code",
   "execution_count": 7,
   "metadata": {},
   "outputs": [
    {
     "data": {
      "text/plain": [
       "[<networkx.classes.graph.Graph at 0x1303f3700>,\n",
       " <networkx.classes.graph.Graph at 0x121a13f70>,\n",
       " <networkx.classes.graph.Graph at 0x121a13f40>]"
      ]
     },
     "execution_count": 7,
     "metadata": {},
     "output_type": "execute_result"
    }
   ],
   "source": [
    "Graphs = [G_1,G_2,G_3]\n",
    "Graphs "
   ]
  },
  {
   "cell_type": "markdown",
   "metadata": {},
   "source": [
    "# CREATE A PROJECT WITH Nx.Graph object(s)"
   ]
  },
  {
   "cell_type": "code",
   "execution_count": 8,
   "metadata": {},
   "outputs": [
    {
     "name": "stdout",
     "output_type": "stream",
     "text": [
      "Creating Project...\n",
      "Successfully created the directory static/projects/Teapot \n",
      "PROGRESS: stored graph data...\n",
      "PROGRESS: stored layouts...\n",
      "PROGRESS: stored nodeinfo...\n",
      "PROGRESS: made node position textures...\n",
      "PROGRESS: made textures for node colors...\n",
      "PROGRESS: stored link textures...\n",
      "PROGRESS: stored all links in json...\n",
      "PROGRESS: stored links textures...\n",
      "PROGRESS: writing json files for project and nodes...\n",
      "Project created successfully.\n"
     ]
    }
   ],
   "source": [
    "nx2j.create_project(Graphs)"
   ]
  },
  {
   "cell_type": "markdown",
   "metadata": {},
   "source": [
    "# BACKGROUND INFO: \n",
    "Find the graph structure generated in this notebook based on nx.Graph input below. "
   ]
  },
  {
   "cell_type": "code",
   "execution_count": 16,
   "metadata": {},
   "outputs": [
    {
     "data": {
      "text/plain": [
       "'\\n\\n{\\n----------------------------------------\\nTHIS IS THE GENERAL GRAPH INFO SECTION\\n----------------------------------------\\n  \"directed\": false,\\n  \"multigraph\": false,\\n  \"projectname\": \"Testgraph\",\\n  \"info\": \"A toy graph for testing purposes. Number of nodes: 10, Links: 43.\",\\n  \"graphlayouts\": [\\n      \"layout1-spring\",\\n      \"layout2-spring\",\\n      \"layout3-spring\",\\n      \"layout4-clusters\"\\n  ],\\n  \"annotationTypes\": true,\\n  \"nodes\": [\\n   ----------------------------------------\\n   contains all nodes of the project\\n   ----------------------------------------\\n      {\\n          \"id\": 0,\\n          \"name\": 0,\\n          \"annotation\": \\n                {\\n                    \"annot1\": [\\n                        \"lambda\",\\n                        \"alpha\",\\n                        \"zeta\",\\n                        \"theta\"\\n                    ],\\n                    \"annot2\": [\\n                        \"delta\",\\n                        \"nu\"\\n                    ],\\n                    \"annot3\": [\\n                        \"mu\",\\n                        \"gamma\"\\n                    ]\\n          }\\n      },....\\n  ],\\n  \"links\": [\\n   ----------------------------------------\\n   contains all links of the project\\n   ----------------------------------------\\n      {\\n          \"id\": 0,\\n          \"source\": 0,\\n          \"target\": 1\\n      },\\n      {\\n          \"id\": 1,\\n          \"source\": 0,\\n          \"target\": 2\\n      },...\\n       ],\\n  \"layouts\": [\\n   ----------------------------------------\\n   contains all layouts of the project\\n   only contains nodes and links as well as colors specific to the layout\\n   ----------------------------------------\\n       {  \"layoutname\" : \"name of first layout\",\\n          \"nodes\": [\\n              {\\n                  \"nodecolor\": [\\n                      255,\\n                      35,\\n                      0,\\n                      120\\n                  ],\\n                  \"pos\": [\\n                      -0.5618057865250979,\\n                      0.1467411221839164,\\n                      0.49656801102094605\\n                  ],\\n                  \"id\": 0\\n               },...\\n        \\t],\\n          \"links\": [\\n              {\\n                  \"linkcolor\": [\\n                      0,\\n                      255,\\n                      0,\\n                      100\\n                  ],\\n                  \"source\": 0,\\n                  \"target\": 1\\n              },...\\n         \\t],\\n   \\t  }, {\\n          \"layoutname\" : \"name of second layout\",\\n          \"nodes\": [\\n              {\\n                  \"nodecolor\": \"#0000ffaa\",\\n                  \"pos\": [\\n                      -0.35948900932978317,\\n                      0.6255258442839948,\\n                      -0.04209289102217994\\n                  ],\\n                  \"cluster\": \"cluster group 1\",\\n                  \"id\": 0\\n               },... \\n],\\n          \"links\": [\\n              {\\n                  \"linkcolor\": \"#0000ff\",\\n                  \"source\": 0,\\n                  \"target\": 1\\n              },\\n],\\n  \\t   }, { . . .  \\n \\t},\\n}\\n\\n'"
      ]
     },
     "execution_count": 16,
     "metadata": {},
     "output_type": "execute_result"
    }
   ],
   "source": [
    "'''\n",
    "\n",
    "{\n",
    "----------------------------------------\n",
    "THIS IS THE GENERAL GRAPH INFO SECTION\n",
    "----------------------------------------\n",
    "  \"directed\": false,\n",
    "  \"multigraph\": false,\n",
    "  \"projectname\": \"Testgraph\",\n",
    "  \"info\": \"A toy graph for testing purposes. Number of nodes: 10, Links: 43.\",\n",
    "  \"graphlayouts\": [\n",
    "      \"layout1-spring\",\n",
    "      \"layout2-spring\",\n",
    "      \"layout3-spring\",\n",
    "      \"layout4-clusters\"\n",
    "  ],\n",
    "  \"annotationTypes\": true,\n",
    "  \"nodes\": [\n",
    "   ----------------------------------------\n",
    "   contains all nodes of the project\n",
    "   ----------------------------------------\n",
    "      {\n",
    "          \"id\": 0,\n",
    "          \"name\": 0,\n",
    "          \"annotation\": \n",
    "                {\n",
    "                    \"annot1\": [\n",
    "                        \"lambda\",\n",
    "                        \"alpha\",\n",
    "                        \"zeta\",\n",
    "                        \"theta\"\n",
    "                    ],\n",
    "                    \"annot2\": [\n",
    "                        \"delta\",\n",
    "                        \"nu\"\n",
    "                    ],\n",
    "                    \"annot3\": [\n",
    "                        \"mu\",\n",
    "                        \"gamma\"\n",
    "                    ]\n",
    "          }\n",
    "      },....\n",
    "  ],\n",
    "  \"links\": [\n",
    "   ----------------------------------------\n",
    "   contains all links of the project\n",
    "   ----------------------------------------\n",
    "      {\n",
    "          \"id\": 0,\n",
    "          \"source\": 0,\n",
    "          \"target\": 1\n",
    "      },\n",
    "      {\n",
    "          \"id\": 1,\n",
    "          \"source\": 0,\n",
    "          \"target\": 2\n",
    "      },...\n",
    "       ],\n",
    "  \"layouts\": [\n",
    "   ----------------------------------------\n",
    "   contains all layouts of the project\n",
    "   only contains nodes and links as well as colors specific to the layout\n",
    "   ----------------------------------------\n",
    "       {  \"layoutname\" : \"name of first layout\",\n",
    "          \"nodes\": [\n",
    "              {\n",
    "                  \"nodecolor\": [\n",
    "                      255,\n",
    "                      35,\n",
    "                      0,\n",
    "                      120\n",
    "                  ],\n",
    "                  \"pos\": [\n",
    "                      -0.5618057865250979,\n",
    "                      0.1467411221839164,\n",
    "                      0.49656801102094605\n",
    "                  ],\n",
    "                  \"id\": 0\n",
    "               },...\n",
    "        \t],\n",
    "          \"links\": [\n",
    "              {\n",
    "                  \"linkcolor\": [\n",
    "                      0,\n",
    "                      255,\n",
    "                      0,\n",
    "                      100\n",
    "                  ],\n",
    "                  \"source\": 0,\n",
    "                  \"target\": 1\n",
    "              },...\n",
    "         \t],\n",
    "   \t  }, {\n",
    "          \"layoutname\" : \"name of second layout\",\n",
    "          \"nodes\": [\n",
    "              {\n",
    "                  \"nodecolor\": \"#0000ffaa\",\n",
    "                  \"pos\": [\n",
    "                      -0.35948900932978317,\n",
    "                      0.6255258442839948,\n",
    "                      -0.04209289102217994\n",
    "                  ],\n",
    "                  \"cluster\": \"cluster group 1\",\n",
    "                  \"id\": 0\n",
    "               },... \n",
    "],\n",
    "          \"links\": [\n",
    "              {\n",
    "                  \"linkcolor\": \"#0000ff\",\n",
    "                  \"source\": 0,\n",
    "                  \"target\": 1\n",
    "              },\n",
    "],\n",
    "  \t   }, { . . .  \n",
    " \t},\n",
    "}\n",
    "\n",
    "'''"
   ]
  },
  {
   "cell_type": "markdown",
   "metadata": {},
   "source": [
    "## CREATE A JSON FILE WITH THE ABOVE STRUCTURE to then create a project"
   ]
  },
  {
   "cell_type": "code",
   "execution_count": 8,
   "metadata": {},
   "outputs": [],
   "source": [
    "import networkx as nx\n",
    "import json \n",
    "import os\n",
    "\n",
    "# these are the two functions one needs to create a JSON file to upload and then create the project in the backend \n",
    "import nx2json as nx2j \n",
    "import uploaderGraph as uG"
   ]
  },
  {
   "cell_type": "code",
   "execution_count": 9,
   "metadata": {},
   "outputs": [],
   "source": [
    "# ----------------------------------------\n",
    "# CREATE Json file\n",
    "# ----------------------------------------\n",
    "merged_graphs = nx2j.make_json(Graphs)\n",
    "path = \"temp_files/\"\n",
    "\n",
    "# save the merged graph in a json file\n",
    "with open(path+Graphs[0].graph['projectname']+'.json', 'w') as fp:\n",
    "    json.dump(merged_graphs, fp, indent=4)"
   ]
  },
  {
   "cell_type": "code",
   "execution_count": null,
   "metadata": {},
   "outputs": [],
   "source": [
    "# # ----------------------------------------\n",
    "# # READ Json file\n",
    "# # ----------------------------------------\n",
    "# filename = 'myfile.json'\n",
    "# currentwd = '.../DataDiVR_Webapp/temp_files/' # modify file location here\n",
    "# path = os.path.join(currentwd, filename)\n",
    "\n",
    "# # open the json file\n",
    "# with open(path, 'r') as f:\n",
    "#      G_merged = json.load(f)"
   ]
  },
  {
   "cell_type": "code",
   "execution_count": null,
   "metadata": {},
   "outputs": [],
   "source": [
    "## ----------------------------------------\n",
    "# CREATE A PROJECT for the VR Platform \n",
    "# ----------------------------------------\n",
    "#the actual \"upload step\" to create a project with the required VR platform files \n",
    "\n",
    "uG.upload_filesJSON(merged_graphs)"
   ]
  },
  {
   "cell_type": "code",
   "execution_count": null,
   "metadata": {},
   "outputs": [],
   "source": []
  },
  {
   "cell_type": "code",
   "execution_count": null,
   "metadata": {},
   "outputs": [],
   "source": []
  },
  {
   "cell_type": "code",
   "execution_count": null,
   "metadata": {},
   "outputs": [],
   "source": []
  },
  {
   "cell_type": "code",
   "execution_count": null,
   "metadata": {},
   "outputs": [],
   "source": []
  }
 ],
 "metadata": {
  "colab": {
   "name": "hypersphere_datanet.ipynb",
   "provenance": []
  },
  "kernelspec": {
   "display_name": "Python 3.9.0 ('venv': venv)",
   "language": "python",
   "name": "python3"
  },
  "language_info": {
   "codemirror_mode": {
    "name": "ipython",
    "version": 3
   },
   "file_extension": ".py",
   "mimetype": "text/x-python",
   "name": "python",
   "nbconvert_exporter": "python",
   "pygments_lexer": "ipython3",
   "version": "3.9.13"
  },
  "vscode": {
   "interpreter": {
    "hash": "0a93b28121dc21aa90b4741de7003d6153cd8b261e5754ecf4f021b3bff19db9"
   }
  }
 },
 "nbformat": 4,
 "nbformat_minor": 4
}
