{
 "cells": [
  {
   "attachments": {},
   "cell_type": "markdown",
   "metadata": {
    "tags": []
   },
   "source": [
    "# HOW TO CREATE A PROJECT from scratch\n",
    "\n",
    "+ this notebook is a template to generate Backend-required files to view a project with the DataDiVR (preview or VR)\n",
    "+ STEP 1 and the \"create a graph\" section contains a template graph writing a required format (json) to then use the generate-project functions of the DataDiVR backend\n",
    "\n",
    "+ STEP 2 to actually generate BACKEND project files."
   ]
  },
  {
   "cell_type": "code",
   "execution_count": 1,
   "metadata": {},
   "outputs": [
    {
     "name": "stderr",
     "output_type": "stream",
     "text": [
      "C:\\Users\\chris\\AppData\\Local\\Temp\\ipykernel_22300\\3520272987.py:4: DeprecationWarning: \n",
      "Pyarrow will become a required dependency of pandas in the next major release of pandas (pandas 3.0),\n",
      "(to allow more performant data types, such as the Arrow string type, and better interoperability with other libraries)\n",
      "but was not found to be installed on your system.\n",
      "If this would cause problems for you,\n",
      "please provide us feedback at https://github.com/pandas-dev/pandas/issues/54466\n",
      "        \n",
      "  import pandas as pd\n"
     ]
    }
   ],
   "source": [
    "import networkx as nx\n",
    "import json \n",
    "import os\n",
    "import pandas as pd\n",
    "\n",
    "# these are the two functions one needs to create a JSON file to upload and create the project in the backend \n",
    "import nx2json as nx2j \n",
    "import uploaderGraph as uG"
   ]
  },
  {
   "cell_type": "code",
   "execution_count": 2,
   "metadata": {},
   "outputs": [
    {
     "name": "stdout",
     "output_type": "stream",
     "text": [
      "Number of nodes:  51361\n",
      "Number of Links:  102560\n"
     ]
    }
   ],
   "source": [
    "G = nx.read_edgelist(\"teapot40_links.csv\", delimiter=',', nodetype=int)\n",
    "print(\"Number of nodes: \", len(G.nodes()))\n",
    "print(\"Number of Links: \", len(G.edges()))\n",
    "\n",
    "# ===============================================\n",
    "# GRAPH NAME AND DESCRIPTION - a string each\n",
    "# ===============================================\n",
    "\n",
    "G.graph['projectname'] = \"Teapot_X02\"\n",
    "G.graph['info'] = \"A toy graph for testing purposes. Number of nodes: \"+str(len(G.nodes()))+\", Links: \"+ str(len(G.edges()))+\".\""
   ]
  },
  {
   "cell_type": "markdown",
   "metadata": {},
   "source": [
    "### create node\n",
    " anntotations"
   ]
  },
  {
   "cell_type": "code",
   "execution_count": 3,
   "metadata": {},
   "outputs": [],
   "source": [
    "import random \n",
    "def generate_random_words(num):\n",
    "    words = [\"alpha\", \"beta\", \"gamma\", \"delta\", \"epsilon\", \"zeta\", \"theta\", \"lambda\", \"mu\", \"nu\"]\n",
    "    return random.sample(words, num)\n",
    "\n",
    "# Create a list to hold annotations in JSON format\n",
    "l_annotations_json = []\n",
    "\n",
    "# Process each node in the graph\n",
    "for g in G.nodes():\n",
    "    # Generate random annotations\n",
    "    annotations = {\n",
    "        \"annot1\": generate_random_words(random.randint(3, 4)),\n",
    "        \"annot2\": generate_random_words(random.randint(1, 2)),\n",
    "        \"annot3\": generate_random_words(random.randint(2, 3))\n",
    "    }\n",
    "    \n",
    "    l_annotations_json.append(annotations)\n",
    "\n",
    "# Create a dictionary mapping nodes to their annotations\n",
    "d_annotations = dict(zip(G.nodes(), l_annotations_json))\n",
    "\n",
    "# Set the node attributes in the graph\n",
    "nx.set_node_attributes(G, d_annotations, name=\"annotation\")\n"
   ]
  },
  {
   "cell_type": "code",
   "execution_count": 4,
   "metadata": {},
   "outputs": [],
   "source": [
    "nodepos = pd.read_csv(\"teapot40_nodes.csv\", delimiter=',',header =None)\n",
    "pos = dict(zip(G.nodes(), zip(nodepos[0], nodepos[1], nodepos[2])))"
   ]
  },
  {
   "cell_type": "code",
   "execution_count": 5,
   "metadata": {},
   "outputs": [],
   "source": [
    "nx.set_node_attributes(G, pos, name=\"pos\")"
   ]
  },
  {
   "cell_type": "code",
   "execution_count": 6,
   "metadata": {},
   "outputs": [],
   "source": [
    "d_nodecolors_rgba = dict(zip(G.nodes(),[(255,0,0,140)]*len(G.nodes())))\n",
    "nx.set_node_attributes(G, d_nodecolors_rgba, name=\"nodecolor\")\n",
    "l_linkcolors_rgba = (0,255,0,100)\n",
    "d_linkcolors_rgba = dict(zip(G.edges(), [l_linkcolors_rgba]*len(G.edges())))\n",
    "nx.set_edge_attributes(G, d_linkcolors_rgba, name=\"linkcolor\")"
   ]
  },
  {
   "cell_type": "code",
   "execution_count": 7,
   "metadata": {},
   "outputs": [
    {
     "name": "stdout",
     "output_type": "stream",
     "text": [
      "Number of nodes:  51361\n",
      "Number of Links:  51280\n"
     ]
    }
   ],
   "source": [
    "# second layout where only a few links appear\n",
    "\n",
    "G_1 = G.copy()\n",
    "\n",
    "edges_to_remove = list(G.edges())[::2]\n",
    "G_1.remove_edges_from(edges_to_remove)\n",
    "\n",
    "print(\"Number of nodes: \", len(G_1.nodes()))\n",
    "print(\"Number of Links: \", len(G_1.edges()))\n",
    "\n",
    "d_linkcolors_rgba = dict(zip(G_1.edges(), [(255,255,0,200)]*len(G_1.edges())))\n",
    "nx.set_edge_attributes(G_1, d_linkcolors_rgba, name=\"linkcolor\")"
   ]
  },
  {
   "cell_type": "markdown",
   "metadata": {},
   "source": [
    "# CREATE A PROJECT WITH Nx.Graph object(s)"
   ]
  },
  {
   "cell_type": "code",
   "execution_count": 8,
   "metadata": {},
   "outputs": [
    {
     "name": "stdout",
     "output_type": "stream",
     "text": [
      "Creating Project...\n",
      "Successfully created the directory static/projects/Teapot_X02 \n",
      "Project created successfully.\n"
     ]
    }
   ],
   "source": [
    "nx2j.create_project([G_1])"
   ]
  },
  {
   "cell_type": "code",
   "execution_count": null,
   "metadata": {},
   "outputs": [],
   "source": []
  },
  {
   "cell_type": "code",
   "execution_count": null,
   "metadata": {},
   "outputs": [],
   "source": []
  },
  {
   "cell_type": "code",
   "execution_count": null,
   "metadata": {},
   "outputs": [],
   "source": []
  }
 ],
 "metadata": {
  "colab": {
   "name": "hypersphere_datanet.ipynb",
   "provenance": []
  },
  "kernelspec": {
   "display_name": "Python 3.9.0 ('venv': venv)",
   "language": "python",
   "name": "python3"
  },
  "language_info": {
   "codemirror_mode": {
    "name": "ipython",
    "version": 3
   },
   "file_extension": ".py",
   "mimetype": "text/x-python",
   "name": "python",
   "nbconvert_exporter": "python",
   "pygments_lexer": "ipython3",
   "version": "3.9.13"
  },
  "vscode": {
   "interpreter": {
    "hash": "0a93b28121dc21aa90b4741de7003d6153cd8b261e5754ecf4f021b3bff19db9"
   }
  }
 },
 "nbformat": 4,
 "nbformat_minor": 4
}
