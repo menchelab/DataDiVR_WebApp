{
 "cells": [
  {
   "attachments": {},
   "cell_type": "markdown",
   "metadata": {
    "tags": []
   },
   "source": [
    "# HOW TO CREATE A PROJECT from scratch\n",
    "\n",
    "+ this notebook is a template to generate Backend-required files to view a project with the DataDiVR (preview or VR)\n",
    "+ STEP 1 and the \"create a graph\" section contains a template graph writing a required format (json) to then use the generate-project functions of the DataDiVR backend\n",
    "\n",
    "+ STEP 2 to actually generate BACKEND project files."
   ]
  },
  {
   "cell_type": "code",
   "execution_count": 1,
   "metadata": {},
   "outputs": [],
   "source": [
    "import networkx as nx\n",
    "import json \n",
    "import os\n",
    "import pandas as pd\n",
    "\n",
    "# these are the two functions one needs to create a JSON file to upload and create the project in the backend \n",
    "import nx2json as nx2j \n",
    "import uploaderGraph as uG"
   ]
  },
  {
   "cell_type": "code",
   "execution_count": 4,
   "metadata": {},
   "outputs": [
    {
     "name": "stdout",
     "output_type": "stream",
     "text": [
      "Number of nodes:  51361\n",
      "Number of Links:  102560\n"
     ]
    }
   ],
   "source": [
    "G = nx.read_edgelist(\"teapot40_links.csv\", delimiter=',', nodetype=int)\n",
    "print(\"Number of nodes: \", len(G.nodes()))\n",
    "print(\"Number of Links: \", len(G.edges()))\n",
    "\n",
    "# ===============================================\n",
    "# GRAPH NAME AND DESCRIPTION - a string each\n",
    "# ===============================================\n",
    "\n",
    "G.graph['projectname'] = \"Teapot_test03\"\n",
    "G.graph['info'] = \"A toy graph for testing purposes. Number of nodes: \"+str(len(G.nodes()))+\", Links: \"+ str(len(G.edges()))+\".\""
   ]
  },
  {
   "cell_type": "markdown",
   "metadata": {},
   "source": [
    "### create node anntotations"
   ]
  },
  {
   "cell_type": "code",
   "execution_count": 5,
   "metadata": {},
   "outputs": [],
   "source": [
    "import random \n",
    "def generate_random_words(num):\n",
    "    words = [\"alpha\", \"beta\", \"gamma\", \"delta\", \"epsilon\", \"zeta\", \"theta\", \"lambda\", \"mu\", \"nu\"]\n",
    "    return random.sample(words, num)\n",
    "\n",
    "# Create a list to hold annotations in JSON format\n",
    "l_annotations_json = []\n",
    "\n",
    "# Process each node in the graph\n",
    "for g in G.nodes():\n",
    "    # Generate random annotations\n",
    "    annotations = {\n",
    "        \"annot1\": generate_random_words(random.randint(3, 4)),\n",
    "        \"annot2\": generate_random_words(random.randint(1, 2)),\n",
    "        \"annot3\": generate_random_words(random.randint(2, 3))\n",
    "    }\n",
    "    \n",
    "    l_annotations_json.append(annotations)\n",
    "\n",
    "# Create a dictionary mapping nodes to their annotations\n",
    "d_annotations = dict(zip(G.nodes(), l_annotations_json))\n",
    "\n",
    "# Set the node attributes in the graph\n",
    "nx.set_node_attributes(G, d_annotations, name=\"annotation\")\n"
   ]
  },
  {
   "cell_type": "code",
   "execution_count": 6,
   "metadata": {},
   "outputs": [],
   "source": [
    "nodepos = pd.read_csv(\"teapot40_nodes.csv\", delimiter=',',header =None)\n",
    "pos = dict(zip(G.nodes(), zip(nodepos[0], nodepos[1], nodepos[2])))"
   ]
  },
  {
   "cell_type": "markdown",
   "metadata": {},
   "source": [
    "### create node positions and set as \"pos\" Graph attribute \n",
    "here are 3 different layouts, which all are stored in unique nx.Graph-objects (G_rgba, G_hex, ....)"
   ]
  },
  {
   "cell_type": "code",
   "execution_count": 7,
   "metadata": {},
   "outputs": [],
   "source": [
    "# First layout (i.e. Graph 1)\n",
    "G_rgba = G.copy()\n",
    "G_rgba.graph[\"layoutname\"] ='layout1-teapot'\n",
    "nx.set_node_attributes(G_rgba, pos, name=\"pos\")\n",
    "\n",
    "# Second layout (i.e. Graph 2)\n",
    "G_hex = G.copy()\n",
    "G_hex.graph[\"layoutname\"] = 'layout2-teapot'\n",
    "nx.set_node_attributes(G_hex, pos, name=\"pos\")\n",
    "\n",
    "\n",
    "# Fourth layout (i.e. Graph 4) - with clusters\n",
    "G_clusters = G.copy()\n",
    "G_clusters.graph[\"layoutname\"] = 'layout3-teapotclusters'\n",
    "clustername_1 = 'cluster group 1'\n",
    "clustername_2 = 'cluster group 2'\n",
    "clustername_3 = 'cluster group 3'\n",
    "\n",
    "# nodes into groups\n",
    "for g in G_clusters.nodes():\n",
    "    if g < len(G_clusters.nodes()) / 3:\n",
    "        G_clusters.nodes[g]['cluster'] = clustername_1\n",
    "    elif g < 2 * len(G_clusters.nodes()) / 3:\n",
    "        G_clusters.nodes[g]['cluster'] = clustername_2\n",
    "    else:\n",
    "        G_clusters.nodes[g]['cluster'] = clustername_3\n",
    "\n",
    "nx.set_node_attributes(G_clusters, pos, name=\"pos\")"
   ]
  },
  {
   "cell_type": "markdown",
   "metadata": {},
   "source": [
    "#### node and link colors "
   ]
  },
  {
   "cell_type": "code",
   "execution_count": 8,
   "metadata": {},
   "outputs": [],
   "source": [
    "# 3 Formats of colors values are supported: hex, rgba, hex8\n",
    "# FIRST GRAPH - rgba color values\n",
    "d_nodecolors_rgba = {node: (0, 0, 255, 120) for node in G_rgba.nodes()}\n",
    "nx.set_node_attributes(G_rgba, d_nodecolors_rgba, name=\"nodecolor\")\n",
    "nx.set_edge_attributes(G_rgba, {edge: (0, 255, 0, 100) for edge in G_rgba.edges()}, name=\"linkcolor\")\n",
    "\n",
    "# SECOND GRAPH - hex color values\n",
    "d_nodecolors_hex = {node: '#33fcff' for node in G_hex.nodes()}\n",
    "nx.set_node_attributes(G_hex, d_nodecolors_hex, name=\"nodecolor\")\n",
    "\n",
    "# link colors\n",
    "d_linkcolors_new = {edge: '#0000ff' if int(edge[0]) % 2 == 0 else (0, 0, 0, 0) for edge in G_hex.edges()}\n",
    "nx.set_edge_attributes(G_hex, d_linkcolors_new, name=\"linkcolor\")\n",
    "\n",
    "# THIRD GRAPH - clusters assigned\n",
    "# node colors\n",
    "d_nodecolors_clusters = {}\n",
    "for n in G_clusters.nodes():\n",
    "    cluster = G_clusters.nodes[n]['cluster']\n",
    "    if cluster == clustername_1:\n",
    "        d_nodecolors_clusters[n] = '#0000ff'\n",
    "    elif cluster == clustername_2:\n",
    "        d_nodecolors_clusters[n] = '#00ff00'\n",
    "    elif cluster == clustername_3:\n",
    "        d_nodecolors_clusters[n] = '#ff0000'\n",
    "\n",
    "nx.set_node_attributes(G_clusters, d_nodecolors_clusters, name=\"nodecolor\")\n",
    "\n",
    "# link colors\n",
    "d_linkcolors_clusters = {}\n",
    "for edge in G_clusters.edges():\n",
    "    cluster1 = G_clusters.nodes[edge[0]]['cluster']\n",
    "    cluster2 = G_clusters.nodes[edge[1]]['cluster']\n",
    "    if cluster1 == cluster2:\n",
    "        if cluster1 == clustername_1:\n",
    "            d_linkcolors_clusters[edge] = '#0000ff'\n",
    "        elif cluster1 == clustername_2:\n",
    "            d_linkcolors_clusters[edge] = '#00ff00'\n",
    "        elif cluster1 == clustername_3:\n",
    "            d_linkcolors_clusters[edge] = '#ff0000'\n",
    "    else:\n",
    "        d_linkcolors_clusters[edge] = (0, 0, 0, 0)\n",
    "\n",
    "nx.set_edge_attributes(G_clusters, d_linkcolors_clusters, name=\"linkcolor\")\n"
   ]
  },
  {
   "cell_type": "code",
   "execution_count": 9,
   "metadata": {},
   "outputs": [
    {
     "name": "stdout",
     "output_type": "stream",
     "text": [
      "Number of links after dropping:  51280\n",
      "Number of links after dropping:  30768\n",
      "Number of links after dropping:  10256\n"
     ]
    }
   ],
   "source": [
    "# dropping random links in a graph \n",
    "num_links_to_drop = int(len(list(G_rgba.edges()))*0.5)\n",
    "links_to_drop = random.sample(list(G_rgba.edges()), num_links_to_drop)\n",
    "G_rgba.remove_edges_from(links_to_drop)\n",
    "print(\"Number of links after dropping: \", len(G_rgba.edges()))\n",
    "\n",
    "num_links_to_drop = int(len(list(G_hex.edges()))*0.7) \n",
    "links_to_drop = random.sample(list(G_hex.edges()), num_links_to_drop)\n",
    "G_hex.remove_edges_from(links_to_drop)\n",
    "print(\"Number of links after dropping: \", len(G_hex.edges()))\n",
    "\n",
    "num_links_to_drop = int(len(list(G_clusters.edges()))*0.9) \n",
    "links_to_drop = random.sample(list(G_clusters.edges()), num_links_to_drop)\n",
    "G_clusters.remove_edges_from(links_to_drop)\n",
    "print(\"Number of links after dropping: \", len(G_clusters.edges()))"
   ]
  },
  {
   "cell_type": "markdown",
   "metadata": {},
   "source": [
    "### merge Graph files into one and store as a json file"
   ]
  },
  {
   "cell_type": "code",
   "execution_count": 10,
   "metadata": {},
   "outputs": [
    {
     "data": {
      "text/plain": [
       "[<networkx.classes.graph.Graph at 0x122408fa0>,\n",
       " <networkx.classes.graph.Graph at 0x122408f10>,\n",
       " <networkx.classes.graph.Graph at 0x10dbe90a0>]"
      ]
     },
     "execution_count": 10,
     "metadata": {},
     "output_type": "execute_result"
    }
   ],
   "source": [
    "Graphs = [G_rgba, G_hex, G_clusters]\n",
    "Graphs "
   ]
  },
  {
   "cell_type": "markdown",
   "metadata": {},
   "source": [
    "# CREATE A PROJECT WITH Nx.Graph object(s)"
   ]
  },
  {
   "cell_type": "code",
   "execution_count": 11,
   "metadata": {},
   "outputs": [
    {
     "name": "stdout",
     "output_type": "stream",
     "text": [
      "Creating Project...\n",
      "Successfully created the directory static/projects/Teapot_test03 \n",
      "PROGRESS: stored graph data...\n",
      "PROGRESS: stored layouts...\n",
      "PROGRESS: stored nodeinfo...\n",
      "PROGRESS: made node position textures...\n",
      "PROGRESS: made textures for node colors...\n",
      "PROGRESS: stored link textures...\n"
     ]
    },
    {
     "ename": "KeyboardInterrupt",
     "evalue": "",
     "output_type": "error",
     "traceback": [
      "\u001b[0;31m---------------------------------------------------------------------------\u001b[0m",
      "\u001b[0;31mKeyboardInterrupt\u001b[0m                         Traceback (most recent call last)",
      "Cell \u001b[0;32mIn[11], line 1\u001b[0m\n\u001b[0;32m----> 1\u001b[0m \u001b[43mnx2j\u001b[49m\u001b[38;5;241;43m.\u001b[39;49m\u001b[43mcreate_project\u001b[49m\u001b[43m(\u001b[49m\u001b[43mGraphs\u001b[49m\u001b[43m)\u001b[49m\n",
      "File \u001b[0;32m~/Desktop/Github/DataDiVR_WebApp/nx2json.py:185\u001b[0m, in \u001b[0;36mcreate_project\u001b[0;34m(graphs)\u001b[0m\n\u001b[1;32m    183\u001b[0m \u001b[38;5;28;01mdef\u001b[39;00m \u001b[38;5;21mcreate_project\u001b[39m(graphs):\n\u001b[1;32m    184\u001b[0m     merged_structure \u001b[38;5;241m=\u001b[39m make_json(graphs)\n\u001b[0;32m--> 185\u001b[0m     \u001b[43mupload_filesJSON\u001b[49m\u001b[43m(\u001b[49m\u001b[43mmerged_structure\u001b[49m\u001b[43m)\u001b[49m\n",
      "File \u001b[0;32m~/Desktop/Github/DataDiVR_WebApp/uploaderGraph.py:411\u001b[0m, in \u001b[0;36mupload_filesJSON\u001b[0;34m(request)\u001b[0m\n\u001b[1;32m    408\u001b[0m \u001b[38;5;28mprint\u001b[39m(\u001b[38;5;124m\"\u001b[39m\u001b[38;5;124mPROGRESS: stored link textures...\u001b[39m\u001b[38;5;124m\"\u001b[39m)\n\u001b[1;32m    410\u001b[0m \u001b[38;5;66;03m# links per layout json\u001b[39;00m\n\u001b[0;32m--> 411\u001b[0m makeLinksjson_multipleLinklists_2(namespace, links_ids_project, linksdicts)\n\u001b[1;32m    412\u001b[0m \u001b[38;5;28mprint\u001b[39m(\u001b[38;5;124m\"\u001b[39m\u001b[38;5;124mPROGRESS: stored linklists per layout...\u001b[39m\u001b[38;5;124m\"\u001b[39m)\n\u001b[1;32m    414\u001b[0m \u001b[38;5;66;03m#----------------------------------\u001b[39;00m\n\u001b[1;32m    415\u001b[0m \u001b[38;5;66;03m# processing Links for ANALYTICS\u001b[39;00m\n\u001b[1;32m    416\u001b[0m \u001b[38;5;66;03m#----------------------------------\u001b[39;00m\n\u001b[0;32m   (...)\u001b[0m\n\u001b[1;32m    431\u001b[0m \u001b[38;5;66;03m# all links json\u001b[39;00m\n\u001b[1;32m    432\u001b[0m \u001b[38;5;66;03m#print(\"C_DEBUG: counting all links for json: \", len(links[0][\"data\"]))\u001b[39;00m\n",
      "File \u001b[0;32m~/Desktop/Github/DataDiVR_WebApp/uploader.py:668\u001b[0m, in \u001b[0;36mmakeLinksjson_multipleLinklists_2\u001b[0;34m(project, links_ids_project, links)\u001b[0m\n\u001b[1;32m    666\u001b[0m \u001b[38;5;28;01mfor\u001b[39;00m row \u001b[38;5;129;01min\u001b[39;00m subdict[\u001b[38;5;124m\"\u001b[39m\u001b[38;5;124mdata\u001b[39m\u001b[38;5;124m\"\u001b[39m]:\n\u001b[1;32m    667\u001b[0m     \u001b[38;5;28;01mfor\u001b[39;00m i, edge \u001b[38;5;129;01min\u001b[39;00m links_ids_project\u001b[38;5;241m.\u001b[39mitems():\n\u001b[0;32m--> 668\u001b[0m         \u001b[38;5;28;01mif\u001b[39;00m \u001b[43mrow\u001b[49m\u001b[43m \u001b[49m\u001b[38;5;241;43m==\u001b[39;49m\u001b[43m \u001b[49m\u001b[43medge\u001b[49m:\n\u001b[1;32m    669\u001b[0m             thislink \u001b[38;5;241m=\u001b[39m {}\n\u001b[1;32m    671\u001b[0m             thislink[\u001b[38;5;124m\"\u001b[39m\u001b[38;5;124mid\u001b[39m\u001b[38;5;124m\"\u001b[39m] \u001b[38;5;241m=\u001b[39m i\n",
      "\u001b[0;31mKeyboardInterrupt\u001b[0m: "
     ]
    }
   ],
   "source": [
    "nx2j.create_project(Graphs)"
   ]
  },
  {
   "cell_type": "markdown",
   "metadata": {},
   "source": [
    "# BACKGROUND INFO: \n",
    "Find the graph structure generated in this notebook based on nx.Graph input below. "
   ]
  },
  {
   "cell_type": "code",
   "execution_count": 16,
   "metadata": {},
   "outputs": [
    {
     "data": {
      "text/plain": [
       "'\\n\\n{\\n----------------------------------------\\nTHIS IS THE GENERAL GRAPH INFO SECTION\\n----------------------------------------\\n  \"directed\": false,\\n  \"multigraph\": false,\\n  \"projectname\": \"Testgraph\",\\n  \"info\": \"A toy graph for testing purposes. Number of nodes: 10, Links: 43.\",\\n  \"graphlayouts\": [\\n      \"layout1-spring\",\\n      \"layout2-spring\",\\n      \"layout3-spring\",\\n      \"layout4-clusters\"\\n  ],\\n  \"annotationTypes\": true,\\n  \"nodes\": [\\n   ----------------------------------------\\n   contains all nodes of the project\\n   ----------------------------------------\\n      {\\n          \"id\": 0,\\n          \"name\": 0,\\n          \"annotation\": \\n                {\\n                    \"annot1\": [\\n                        \"lambda\",\\n                        \"alpha\",\\n                        \"zeta\",\\n                        \"theta\"\\n                    ],\\n                    \"annot2\": [\\n                        \"delta\",\\n                        \"nu\"\\n                    ],\\n                    \"annot3\": [\\n                        \"mu\",\\n                        \"gamma\"\\n                    ]\\n          }\\n      },....\\n  ],\\n  \"links\": [\\n   ----------------------------------------\\n   contains all links of the project\\n   ----------------------------------------\\n      {\\n          \"id\": 0,\\n          \"source\": 0,\\n          \"target\": 1\\n      },\\n      {\\n          \"id\": 1,\\n          \"source\": 0,\\n          \"target\": 2\\n      },...\\n       ],\\n  \"layouts\": [\\n   ----------------------------------------\\n   contains all layouts of the project\\n   only contains nodes and links as well as colors specific to the layout\\n   ----------------------------------------\\n       {  \"layoutname\" : \"name of first layout\",\\n          \"nodes\": [\\n              {\\n                  \"nodecolor\": [\\n                      255,\\n                      35,\\n                      0,\\n                      120\\n                  ],\\n                  \"pos\": [\\n                      -0.5618057865250979,\\n                      0.1467411221839164,\\n                      0.49656801102094605\\n                  ],\\n                  \"id\": 0\\n               },...\\n        \\t],\\n          \"links\": [\\n              {\\n                  \"linkcolor\": [\\n                      0,\\n                      255,\\n                      0,\\n                      100\\n                  ],\\n                  \"source\": 0,\\n                  \"target\": 1\\n              },...\\n         \\t],\\n   \\t  }, {\\n          \"layoutname\" : \"name of second layout\",\\n          \"nodes\": [\\n              {\\n                  \"nodecolor\": \"#0000ffaa\",\\n                  \"pos\": [\\n                      -0.35948900932978317,\\n                      0.6255258442839948,\\n                      -0.04209289102217994\\n                  ],\\n                  \"cluster\": \"cluster group 1\",\\n                  \"id\": 0\\n               },... \\n],\\n          \"links\": [\\n              {\\n                  \"linkcolor\": \"#0000ff\",\\n                  \"source\": 0,\\n                  \"target\": 1\\n              },\\n],\\n  \\t   }, { . . .  \\n \\t},\\n}\\n\\n'"
      ]
     },
     "execution_count": 16,
     "metadata": {},
     "output_type": "execute_result"
    }
   ],
   "source": [
    "'''\n",
    "\n",
    "{\n",
    "----------------------------------------\n",
    "THIS IS THE GENERAL GRAPH INFO SECTION\n",
    "----------------------------------------\n",
    "  \"directed\": false,\n",
    "  \"multigraph\": false,\n",
    "  \"projectname\": \"Testgraph\",\n",
    "  \"info\": \"A toy graph for testing purposes. Number of nodes: 10, Links: 43.\",\n",
    "  \"graphlayouts\": [\n",
    "      \"layout1-spring\",\n",
    "      \"layout2-spring\",\n",
    "      \"layout3-spring\",\n",
    "      \"layout4-clusters\"\n",
    "  ],\n",
    "  \"annotationTypes\": true,\n",
    "  \"nodes\": [\n",
    "   ----------------------------------------\n",
    "   contains all nodes of the project\n",
    "   ----------------------------------------\n",
    "      {\n",
    "          \"id\": 0,\n",
    "          \"name\": 0,\n",
    "          \"annotation\": \n",
    "                {\n",
    "                    \"annot1\": [\n",
    "                        \"lambda\",\n",
    "                        \"alpha\",\n",
    "                        \"zeta\",\n",
    "                        \"theta\"\n",
    "                    ],\n",
    "                    \"annot2\": [\n",
    "                        \"delta\",\n",
    "                        \"nu\"\n",
    "                    ],\n",
    "                    \"annot3\": [\n",
    "                        \"mu\",\n",
    "                        \"gamma\"\n",
    "                    ]\n",
    "          }\n",
    "      },....\n",
    "  ],\n",
    "  \"links\": [\n",
    "   ----------------------------------------\n",
    "   contains all links of the project\n",
    "   ----------------------------------------\n",
    "      {\n",
    "          \"id\": 0,\n",
    "          \"source\": 0,\n",
    "          \"target\": 1\n",
    "      },\n",
    "      {\n",
    "          \"id\": 1,\n",
    "          \"source\": 0,\n",
    "          \"target\": 2\n",
    "      },...\n",
    "       ],\n",
    "  \"layouts\": [\n",
    "   ----------------------------------------\n",
    "   contains all layouts of the project\n",
    "   only contains nodes and links as well as colors specific to the layout\n",
    "   ----------------------------------------\n",
    "       {  \"layoutname\" : \"name of first layout\",\n",
    "          \"nodes\": [\n",
    "              {\n",
    "                  \"nodecolor\": [\n",
    "                      255,\n",
    "                      35,\n",
    "                      0,\n",
    "                      120\n",
    "                  ],\n",
    "                  \"pos\": [\n",
    "                      -0.5618057865250979,\n",
    "                      0.1467411221839164,\n",
    "                      0.49656801102094605\n",
    "                  ],\n",
    "                  \"id\": 0\n",
    "               },...\n",
    "        \t],\n",
    "          \"links\": [\n",
    "              {\n",
    "                  \"linkcolor\": [\n",
    "                      0,\n",
    "                      255,\n",
    "                      0,\n",
    "                      100\n",
    "                  ],\n",
    "                  \"source\": 0,\n",
    "                  \"target\": 1\n",
    "              },...\n",
    "         \t],\n",
    "   \t  }, {\n",
    "          \"layoutname\" : \"name of second layout\",\n",
    "          \"nodes\": [\n",
    "              {\n",
    "                  \"nodecolor\": \"#0000ffaa\",\n",
    "                  \"pos\": [\n",
    "                      -0.35948900932978317,\n",
    "                      0.6255258442839948,\n",
    "                      -0.04209289102217994\n",
    "                  ],\n",
    "                  \"cluster\": \"cluster group 1\",\n",
    "                  \"id\": 0\n",
    "               },... \n",
    "],\n",
    "          \"links\": [\n",
    "              {\n",
    "                  \"linkcolor\": \"#0000ff\",\n",
    "                  \"source\": 0,\n",
    "                  \"target\": 1\n",
    "              },\n",
    "],\n",
    "  \t   }, { . . .  \n",
    " \t},\n",
    "}\n",
    "\n",
    "'''"
   ]
  },
  {
   "cell_type": "markdown",
   "metadata": {},
   "source": [
    "## CREATE A JSON FILE WITH THE ABOVE STRUCTURE to then create a project"
   ]
  },
  {
   "cell_type": "code",
   "execution_count": 46,
   "metadata": {},
   "outputs": [],
   "source": [
    "import networkx as nx\n",
    "import json \n",
    "import os\n",
    "\n",
    "# these are the two functions one needs to create a JSON file to upload and then create the project in the backend \n",
    "import nx2json as nx2j \n",
    "import uploaderGraph as uG"
   ]
  },
  {
   "cell_type": "code",
   "execution_count": 47,
   "metadata": {},
   "outputs": [],
   "source": [
    "# ----------------------------------------\n",
    "# CREATE Json file\n",
    "# ----------------------------------------\n",
    "merged_graphs = nx2j.make_json(Graphs)\n",
    "path = \"temp_files/\"\n",
    "\n",
    "# save the merged graph in a json file\n",
    "with open(path+Graphs[0].graph['projectname']+'.json', 'w') as fp:\n",
    "    json.dump(merged_graphs, fp, indent=4)"
   ]
  },
  {
   "cell_type": "code",
   "execution_count": null,
   "metadata": {},
   "outputs": [],
   "source": [
    "# # ----------------------------------------\n",
    "# # READ Json file\n",
    "# # ----------------------------------------\n",
    "# filename = 'myfile.json'\n",
    "# currentwd = '.../DataDiVR_Webapp/temp_files/' # modify file location here\n",
    "# path = os.path.join(currentwd, filename)\n",
    "\n",
    "# # open the json file\n",
    "# with open(path, 'r') as f:\n",
    "#      G_merged = json.load(f)"
   ]
  },
  {
   "cell_type": "code",
   "execution_count": null,
   "metadata": {},
   "outputs": [],
   "source": [
    "## ----------------------------------------\n",
    "# CREATE A PROJECT for the VR Platform \n",
    "# ----------------------------------------\n",
    "#the actual \"upload step\" to create a project with the required VR platform files \n",
    "\n",
    "uG.upload_filesJSON(merged_graphs)"
   ]
  },
  {
   "cell_type": "code",
   "execution_count": null,
   "metadata": {},
   "outputs": [],
   "source": []
  },
  {
   "cell_type": "code",
   "execution_count": null,
   "metadata": {},
   "outputs": [],
   "source": []
  },
  {
   "cell_type": "code",
   "execution_count": null,
   "metadata": {},
   "outputs": [],
   "source": []
  },
  {
   "cell_type": "code",
   "execution_count": null,
   "metadata": {},
   "outputs": [],
   "source": []
  }
 ],
 "metadata": {
  "colab": {
   "name": "hypersphere_datanet.ipynb",
   "provenance": []
  },
  "kernelspec": {
   "display_name": "Python 3.9.0 ('venv': venv)",
   "language": "python",
   "name": "python3"
  },
  "language_info": {
   "codemirror_mode": {
    "name": "ipython",
    "version": 3
   },
   "file_extension": ".py",
   "mimetype": "text/x-python",
   "name": "python",
   "nbconvert_exporter": "python",
   "pygments_lexer": "ipython3",
   "version": "3.9.10"
  },
  "vscode": {
   "interpreter": {
    "hash": "0a93b28121dc21aa90b4741de7003d6153cd8b261e5754ecf4f021b3bff19db9"
   }
  }
 },
 "nbformat": 4,
 "nbformat_minor": 4
}
