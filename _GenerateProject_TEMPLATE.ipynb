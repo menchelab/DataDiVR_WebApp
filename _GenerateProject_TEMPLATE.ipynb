{
 "cells": [
  {
   "attachments": {},
   "cell_type": "markdown",
   "metadata": {
    "tags": []
   },
   "source": [
    "# GENERATE A BACKEND PROJECT \n",
    "\n",
    "+ this notebook is a template to generate Backend-required files to view a project with the DataDiVR (preview or VR)\n",
    "+ STEP 1 and the \"create a graph\" section contains a template graph writing a required format (json) to then use the generate-project functions of the DataDiVR backend\n",
    "\n",
    "+ STEP 2 to actually generate BACKEND project files."
   ]
  },
  {
   "cell_type": "markdown",
   "metadata": {},
   "source": [
    "### THE GRAPH STRUCTURE FORMAT required\n",
    "\n",
    "**How this is meant to be used:**\n",
    "+ Create an nx.Graph with stored node positions (\"pos\") and colors (\"nodecolor\") and link colors (\"linkcolor\")\n",
    "+ set attributes in the nx.Graph accordingly\n",
    "+ then merge all layouts (nx.Graphs) using the \"merge_grpahs\" function to create one large file, containing all information for your project. "
   ]
  },
  {
   "cell_type": "code",
   "execution_count": 74,
   "metadata": {},
   "outputs": [
    {
     "data": {
      "text/plain": [
       "'\\n\\n{\\n----------------------------------------\\nTHIS IS THE GENERAL GRAPH INFO SECTION\\n----------------------------------------\\n  \"directed\": false,\\n  \"multigraph\": false,\\n  \"graphtitle\": \"Testgraph\",\\n  \"graphdesc\": \"A toy graph for testing purposes. Number of nodes: 10, Links: 43.\",\\n  \"graphlayouts\": [\\n      \"layout1-spring\",\\n      \"layout2-spring\",\\n      \"layout3-spring\",\\n      \"layout4-clusters\"\\n  ],\\n  \"annotationTypes\": true,\\n  \"nodes\": [\\n   ----------------------------------------\\n   contains all nodes of the project\\n   ----------------------------------------\\n      {\\n          \"id\": 0,\\n          \"name\": 0,\\n          \"annotation\": [\\n                {\\n                    \"annot1\": [\\n                        \"lambda\",\\n                        \"alpha\",\\n                        \"zeta\",\\n                        \"theta\"\\n                    ],\\n                    \"annot2\": [\\n                        \"delta\",\\n                        \"nu\"\\n                    ],\\n                    \"annot3\": [\\n                        \"mu\",\\n                        \"gamma\"\\n                    ]\\n          }\\n      },....\\n  ],\\n  \"links\": [\\n   ----------------------------------------\\n   contains all links of the project\\n   ----------------------------------------\\n      {\\n          \"id\": 0,\\n          \"source\": 0,\\n          \"target\": 1\\n      },\\n      {\\n          \"id\": 1,\\n          \"source\": 0,\\n          \"target\": 2\\n      },...\\n       ],\\n  \"layouts\": [\\n   ----------------------------------------\\n   contains all layouts of the project\\n   only contains nodes and links as well as colors specific to the layout\\n   ----------------------------------------\\n       {\\n          \"nodes\": [\\n              {\\n                  \"nodecolor\": [\\n                      255,\\n                      35,\\n                      0,\\n                      120\\n                  ],\\n                  \"pos\": [\\n                      -0.5618057865250979,\\n                      0.1467411221839164,\\n                      0.49656801102094605\\n                  ],\\n                  \"cluster\": \"\",\\n                  \"id\": 0\\n               },...\\n        \\t],\\n          \"links\": [\\n              {\\n                  \"linkcolor\": [\\n                      0,\\n                      255,\\n                      0,\\n                      100\\n                  ],\\n                  \"source\": 0,\\n                  \"target\": 1\\n              },...\\n         \\t],\\n   \\t  }, {\\n          \"nodes\": [\\n              {\\n                  \"nodecolor\": \"#0000ffaa\",\\n                  \"pos\": [\\n                      -0.35948900932978317,\\n                      0.6255258442839948,\\n                      -0.04209289102217994\\n                  ],\\n                  \"cluster\": \"cluster group 1\",\\n                  \"id\": 0\\n               },... \\n],\\n          \"links\": [\\n              {\\n                  \"linkcolor\": \"#0000ff\",\\n                  \"source\": 0,\\n                  \"target\": 1\\n              },\\n],\\n  \\t   }, { . . .  \\n \\t},\\n}\\n\\n'"
      ]
     },
     "execution_count": 74,
     "metadata": {},
     "output_type": "execute_result"
    }
   ],
   "source": [
    "'''\n",
    "\n",
    "{\n",
    "----------------------------------------\n",
    "THIS IS THE GENERAL GRAPH INFO SECTION\n",
    "----------------------------------------\n",
    "  \"directed\": false,\n",
    "  \"multigraph\": false,\n",
    "  \"graphtitle\": \"Testgraph\",\n",
    "  \"graphdesc\": \"A toy graph for testing purposes. Number of nodes: 10, Links: 43.\",\n",
    "  \"graphlayouts\": [\n",
    "      \"layout1-spring\",\n",
    "      \"layout2-spring\",\n",
    "      \"layout3-spring\",\n",
    "      \"layout4-clusters\"\n",
    "  ],\n",
    "  \"annotationTypes\": true,\n",
    "  \"nodes\": [\n",
    "   ----------------------------------------\n",
    "   contains all nodes of the project\n",
    "   ----------------------------------------\n",
    "      {\n",
    "          \"id\": 0,\n",
    "          \"name\": 0,\n",
    "          \"annotation\": \n",
    "                {\n",
    "                    \"annot1\": [\n",
    "                        \"lambda\",\n",
    "                        \"alpha\",\n",
    "                        \"zeta\",\n",
    "                        \"theta\"\n",
    "                    ],\n",
    "                    \"annot2\": [\n",
    "                        \"delta\",\n",
    "                        \"nu\"\n",
    "                    ],\n",
    "                    \"annot3\": [\n",
    "                        \"mu\",\n",
    "                        \"gamma\"\n",
    "                    ]\n",
    "          }\n",
    "      },....\n",
    "  ],\n",
    "  \"links\": [\n",
    "   ----------------------------------------\n",
    "   contains all links of the project\n",
    "   ----------------------------------------\n",
    "      {\n",
    "          \"id\": 0,\n",
    "          \"source\": 0,\n",
    "          \"target\": 1\n",
    "      },\n",
    "      {\n",
    "          \"id\": 1,\n",
    "          \"source\": 0,\n",
    "          \"target\": 2\n",
    "      },...\n",
    "       ],\n",
    "  \"layouts\": [\n",
    "   ----------------------------------------\n",
    "   contains all layouts of the project\n",
    "   only contains nodes and links as well as colors specific to the layout\n",
    "   ----------------------------------------\n",
    "       {\n",
    "          \"nodes\": [\n",
    "              {\n",
    "                  \"nodecolor\": [\n",
    "                      255,\n",
    "                      35,\n",
    "                      0,\n",
    "                      120\n",
    "                  ],\n",
    "                  \"pos\": [\n",
    "                      -0.5618057865250979,\n",
    "                      0.1467411221839164,\n",
    "                      0.49656801102094605\n",
    "                  ],\n",
    "                  \"cluster\": \"\",\n",
    "                  \"id\": 0\n",
    "               },...\n",
    "        \t],\n",
    "          \"links\": [\n",
    "              {\n",
    "                  \"linkcolor\": [\n",
    "                      0,\n",
    "                      255,\n",
    "                      0,\n",
    "                      100\n",
    "                  ],\n",
    "                  \"source\": 0,\n",
    "                  \"target\": 1\n",
    "              },...\n",
    "         \t],\n",
    "   \t  }, {\n",
    "          \"nodes\": [\n",
    "              {\n",
    "                  \"nodecolor\": \"#0000ffaa\",\n",
    "                  \"pos\": [\n",
    "                      -0.35948900932978317,\n",
    "                      0.6255258442839948,\n",
    "                      -0.04209289102217994\n",
    "                  ],\n",
    "                  \"cluster\": \"cluster group 1\",\n",
    "                  \"id\": 0\n",
    "               },... \n",
    "],\n",
    "          \"links\": [\n",
    "              {\n",
    "                  \"linkcolor\": \"#0000ff\",\n",
    "                  \"source\": 0,\n",
    "                  \"target\": 1\n",
    "              },\n",
    "],\n",
    "  \t   }, { . . .  \n",
    " \t},\n",
    "}\n",
    "\n",
    "'''"
   ]
  },
  {
   "cell_type": "markdown",
   "metadata": {},
   "source": [
    "# STEP 1 - Create Graphs with stored positions, colors etc. or use your own nx.Graphs"
   ]
  },
  {
   "cell_type": "code",
   "execution_count": 88,
   "metadata": {},
   "outputs": [],
   "source": [
    "def merge_graphs(graphs):\n",
    "    all_nodes = []\n",
    "    all_links = []\n",
    "    layouts = []\n",
    "\n",
    "    seen_nodes = set()  # To track seen node IDs\n",
    "    seen_links = set()  # To track seen links by a tuple of (source, target)\n",
    "\n",
    "    for graph in graphs:\n",
    "        # Process nodes for global and layout-specific lists\n",
    "        for node, attrs in graph.nodes(data=True):\n",
    "            if node not in seen_nodes:\n",
    "                annotation = attrs.get('annotation', [])\n",
    "                anntation_mod = {}\n",
    "                for k,v in annotation.items():\n",
    "                    anntation_mod[k] = v\n",
    "                all_nodes.append({'id': node, 'name': node, \n",
    "                                    'annotation': anntation_mod})\n",
    "                seen_nodes.add(node)\n",
    "\n",
    "        # Process links for global list, now with separate source and target\n",
    "        for ix,(source, target, attrs) in enumerate(graph.edges(data=True)):\n",
    "            if (source, target) not in seen_links:\n",
    "                # Assuming 'weight' might be an attribute you're interested in\n",
    "                # weight = attrs.get('weight', 1)  # Example, uncomment if needed\n",
    "                all_links.append({\n",
    "                    'id': ix,  # It's unclear how 'id' is determined; might need a unique strategy\n",
    "                    # 'w': weight,  # Uncomment if using weight\n",
    "                    'source': source,\n",
    "                    'target': target\n",
    "                })\n",
    "                seen_links.add((source, target))\n",
    "\n",
    "        # Prepare layout-specific nodes and links\n",
    "        layout_nodes = [{'nodecolor': attrs.get('nodecolor', ''),\n",
    "                         'pos': attrs.get('pos', []),\n",
    "                         'cluster': attrs.get('cluster',''),\n",
    "                         'id': node} for node, attrs in graph.nodes(data=True)\n",
    "                        ]\n",
    "        layout_links = [{'linkcolor': attrs.get('linkcolor', ''),\n",
    "                         'source': source,\n",
    "                         'target': target} for source, target, attrs in graph.edges(data=True)]\n",
    "\n",
    "        layouts.append({'nodes': layout_nodes, 'links': layout_links})\n",
    "\n",
    "    # Assuming the structure of the graphs are similar, and using the first graph as the base\n",
    "    graphlayouts = [graph.name for graph in graphs]\n",
    "    merged_structure = {\n",
    "        'directed': graphs[0].is_directed(),\n",
    "        'multigraph': graphs[0].is_multigraph(),\n",
    "        'graphtitle': graphs[0].graph.get(\"graphtitle\", \"\"),\n",
    "        'graphdesc': graphs[0].graph.get(\"graphdesc\", \"\"),\n",
    "        'graphlayouts': graphlayouts,\n",
    "        'annotationTypes': True,\n",
    "        'nodes': all_nodes,\n",
    "        'links': all_links,\n",
    "        'layouts': layouts\n",
    "    }\n",
    "\n",
    "    return merged_structure "
   ]
  },
  {
   "cell_type": "markdown",
   "metadata": {},
   "source": [
    "### nx.Graph"
   ]
  },
  {
   "cell_type": "code",
   "execution_count": 96,
   "metadata": {},
   "outputs": [
    {
     "name": "stdout",
     "output_type": "stream",
     "text": [
      "Number of nodes:  10\n",
      "Number of Links:  40\n"
     ]
    }
   ],
   "source": [
    "import networkx as nx\n",
    "import json \n",
    "import os\n",
    "\n",
    "G = nx.random_geometric_graph(10,1)\n",
    "print(\"Number of nodes: \", len(G.nodes()))\n",
    "print(\"Number of Links: \", len(G.edges()))\n",
    "\n",
    "# ===============================================\n",
    "# GRAPH NAME AND DESCRIPTION - a string each\n",
    "# ===============================================\n",
    "G.name = \"A-testgraph2\"\n",
    "G.graph['graphtitle'] = G.name\n",
    "G.graph['graphdesc'] = \"A toy graph for testing purposes. Number of nodes: \"+str(len(G.nodes()))+\", Links: \"+ str(len(G.edges()))+\".\""
   ]
  },
  {
   "cell_type": "markdown",
   "metadata": {},
   "source": [
    "### create node anntotations"
   ]
  },
  {
   "cell_type": "code",
   "execution_count": 97,
   "metadata": {},
   "outputs": [],
   "source": [
    "import random \n",
    "def generate_random_words(num):\n",
    "    words = [\"alpha\", \"beta\", \"gamma\", \"delta\", \"epsilon\", \"zeta\", \"theta\", \"lambda\", \"mu\", \"nu\"]\n",
    "    return random.sample(words, num)\n",
    "\n",
    "# Create a list to hold annotations in JSON format\n",
    "l_annotations_json = []\n",
    "\n",
    "# Process each node in the graph\n",
    "for g in G.nodes():\n",
    "    # Generate random annotations\n",
    "    annotations = {\n",
    "        \"annot1\": generate_random_words(random.randint(3, 4)),\n",
    "        \"annot2\": generate_random_words(random.randint(1, 2)),\n",
    "        \"annot3\": generate_random_words(random.randint(2, 3))\n",
    "    }\n",
    "    \n",
    "    l_annotations_json.append(annotations)\n",
    "\n",
    "# Create a dictionary mapping nodes to their annotations\n",
    "d_annotations = dict(zip(G.nodes(), l_annotations_json))\n",
    "\n",
    "# Set the node attributes in the graph\n",
    "nx.set_node_attributes(G, d_annotations, name=\"annotation\")\n"
   ]
  },
  {
   "cell_type": "markdown",
   "metadata": {},
   "source": [
    "### create node positions and set as \"pos\" Graph attribute \n",
    "here are 3 different layouts, which all are stored in unique nx.Graph-objects (G_rgba, G_hex, ....)"
   ]
  },
  {
   "cell_type": "code",
   "execution_count": 98,
   "metadata": {},
   "outputs": [],
   "source": [
    "# First layout (i.e. Graph 1)\n",
    "G_rgba = G.copy()\n",
    "G_rgba.name = 'layout1-spring'\n",
    "G_rgba.graph[\"scene\"] = G_rgba.name\n",
    "posG3D_1_pre = nx.spring_layout(G, dim=3, k=0.1, iterations=100)\n",
    "posG3D_1 = {key: value.tolist() for key, value in posG3D_1_pre.items()}\n",
    "nx.set_node_attributes(G_rgba, posG3D_1, name=\"pos\")\n",
    "\n",
    "\n",
    "# Second layout (i.e. Graph 2)\n",
    "G_hex = G.copy()\n",
    "G_hex.name = 'layout2-spring'\n",
    "G_hex.graph[\"scene\"] = G_hex.name\n",
    "posG3D_2_pre = nx.spring_layout(G, dim=3, k=0.1, iterations=200)\n",
    "posG3D_2= {key: value.tolist() for key, value in posG3D_2_pre.items()}\n",
    "nx.set_node_attributes(G_hex, posG3D_2, name=\"pos\")\n",
    "\n",
    "\n",
    "# Third layout (i.e. Graph 3)\n",
    "G_hex8 = G.copy()\n",
    "G_hex8.name = 'layout3-spring'\n",
    "G_hex8.graph[\"scene\"] = G_hex8.name\n",
    "posG3D_3_pre = nx.spring_layout(G, dim=3, k=0.1, iterations=500)\n",
    "posG3D_3 = {key: value.tolist() for key, value in posG3D_3_pre.items()}\n",
    "nx.set_node_attributes(G_hex8, posG3D_3, name=\"pos\")\n",
    "\n",
    "\n",
    "# Fourth layout (i.e. Graph 4) - with clusters\n",
    "G_clusters = G.copy()\n",
    "G_clusters.name = 'layout4-clusters'\n",
    "G_clusters.graph[\"scene\"] = G_clusters.name\n",
    "clustername_1 = 'cluster group 1'\n",
    "clustername_2 = 'cluster group 2'\n",
    "clustername_3 = 'cluster group 3'\n",
    "\n",
    "# nodes into groups\n",
    "for g in G_clusters.nodes():\n",
    "    if g < len(G_clusters.nodes()) / 3:\n",
    "        G_clusters.nodes[g]['cluster'] = clustername_1\n",
    "    elif g < 2 * len(G_clusters.nodes()) / 3:\n",
    "        G_clusters.nodes[g]['cluster'] = clustername_2\n",
    "    else:\n",
    "        G_clusters.nodes[g]['cluster'] = clustername_3\n",
    "\n",
    "nx.set_node_attributes(G_clusters, posG3D_2, name=\"pos\")"
   ]
  },
  {
   "cell_type": "code",
   "execution_count": 99,
   "metadata": {},
   "outputs": [],
   "source": [
    "#get node attributes \n",
    "#node_attributes = nx.get_node_attributes(G_clusters, 'pos')\n",
    "#print(node_attributes)"
   ]
  },
  {
   "cell_type": "markdown",
   "metadata": {},
   "source": [
    "#### node and link colors "
   ]
  },
  {
   "cell_type": "code",
   "execution_count": 100,
   "metadata": {},
   "outputs": [],
   "source": [
    "# 3 Formats of colors values are supported: hex, rgba, hex8\n",
    "\n",
    "# FIRST GRAPH - rgba color values\n",
    "d_nodecolors_rgba = dict(zip(G_rgba.nodes(),[(255,35,0,120)]*len(G_rgba.nodes())))\n",
    "nx.set_node_attributes(G_rgba, d_nodecolors_rgba, name=\"nodecolor\")\n",
    "l_linkcolors_rgba = (0,255,0,100)\n",
    "nx.set_edge_attributes(G_rgba, l_linkcolors_rgba, name=\"linkcolor\")\n",
    "\n",
    "\n",
    "# SECOND GRAPH - hex color values \n",
    "d_nodecolors_hex = dict(zip(G_hex.nodes(),['#FF2300']*len(G_hex.nodes())))\n",
    "nx.set_node_attributes(G_hex, d_nodecolors_hex, name=\"nodecolor\")\n",
    "l_linkcolors_hex = '#ff0000'\n",
    "nx.set_edge_attributes(G_hex, l_linkcolors_hex, name=\"linkcolor\")\n",
    "\n",
    "\n",
    "# THIRD GRAPH - hex8 color values\n",
    "d_nodecolors_hex8 = dict(zip(G_hex8.nodes(),['#0000ffaa']*len(G_hex8.nodes())))\n",
    "nx.set_node_attributes(G_hex8, d_nodecolors_hex8, name=\"nodecolor\")\n",
    "l_linkcolors_hex8 = '#0080ffaa'\n",
    "nx.set_edge_attributes(G_hex8, l_linkcolors_hex8, name=\"linkcolor\")\n",
    "\n",
    "\n",
    "# FOURTH GRAPH - clusters assigned \n",
    "\n",
    "# node colors \n",
    "d_nodecolors_clusters = {}\n",
    "nodes_group1 = []\n",
    "nodes_group2 = []\n",
    "nodes_group3 = []\n",
    "for n in G_clusters.nodes(): \n",
    "    if G_clusters.nodes[n]['cluster'] == clustername_1:\n",
    "        d_nodecolors_clusters[n] = '#0000ffaa'\n",
    "        nodes_group1.append(n)\n",
    "    elif G_clusters.nodes[n]['cluster'] == clustername_2:\n",
    "        d_nodecolors_clusters[n] = '#00ff00aa'\n",
    "        nodes_group2.append(n)\n",
    "    elif G_clusters.nodes[n]['cluster'] == clustername_3:\n",
    "        d_nodecolors_clusters[n] = '#ff0000aa'\n",
    "        nodes_group3.append(n)\n",
    "\n",
    "# link colors\n",
    "d_linkcolors_clusters = {}\n",
    "for edge in G_clusters.edges():\n",
    "    if edge[0] in nodes_group1 and edge[1] in nodes_group1:\n",
    "        d_linkcolors_clusters[edge] = '#0000ff'\n",
    "       \n",
    "    elif edge[0] in nodes_group2 and edge[1] in nodes_group2:\n",
    "        d_linkcolors_clusters[edge] = '#00ff00'\n",
    "       \n",
    "    elif edge[0] in nodes_group3 and edge[1] in nodes_group3:\n",
    "        d_linkcolors_clusters[edge] = '#ff0000'\n",
    "       \n",
    "    else:\n",
    "        d_linkcolors_clusters[edge] = '#B1B1B1'\n",
    "\n",
    "l_linkcolors_clusters = list(d_linkcolors_clusters.values())\n",
    "\n",
    "nx.set_node_attributes(G_clusters, d_nodecolors_clusters, name=\"nodecolor\")\n",
    "nx.set_edge_attributes(G_clusters, {edge: color for edge, color in zip(G_clusters.edges(), l_linkcolors_clusters)}, \"linkcolor\")\n"
   ]
  },
  {
   "cell_type": "markdown",
   "metadata": {},
   "source": [
    "### merge Graph files into one"
   ]
  },
  {
   "cell_type": "code",
   "execution_count": 101,
   "metadata": {},
   "outputs": [],
   "source": [
    "Graphs = [G_rgba, G_hex, G_hex8, G_clusters]\n",
    "G_merged = merge_graphs(Graphs)\n",
    "\n",
    "# store merged json \n",
    "with open('_jsontemp/merged_'+G_merged[\"graphtitle\"]+'.json', 'w') as f:\n",
    "    json.dump(G_merged, f, indent=4)"
   ]
  },
  {
   "cell_type": "markdown",
   "metadata": {},
   "source": [
    "# STEP 2 - CREATE PROJECT - for DataDiVR BACKEND"
   ]
  },
  {
   "cell_type": "code",
   "execution_count": 102,
   "metadata": {},
   "outputs": [
    {
     "name": "stdout",
     "output_type": "stream",
     "text": [
      "C_DEBUG: is dict - Uploading via Notebook function\n",
      "C_DEBUG: namespace:  A-testgraph2\n",
      "Successfully created the directory static/projects/A-testgraph2 \n",
      "['JSON_barbellgraph', 'Human Interactome', 'JSON_autocore', 'JSON_Zachary', 'A-testgraph2', 'A-testgraph']\n"
     ]
    },
    {
     "data": {
      "text/plain": [
       "'<a style=\"color:green;\">SUCCESS </a>LayoutID0 Node Textures Created<br><a style=\"color:green;\">SUCCESS </a>LayoutID1 Node Textures Created<br><a style=\"color:green;\">SUCCESS </a>LayoutID2 Node Textures Created<br><a style=\"color:green;\">SUCCESS </a>LayoutID3 Node Textures Created<br><a style=\"color:green;\">SUCCESS </a>LayoutID0 Node Textures Created<br><a style=\"color:green;\">SUCCESS </a>LayoutID1 Node Textures Created<br><a style=\"color:green;\">SUCCESS </a>LayoutID2 Node Textures Created<br><a style=\"color:green;\">SUCCESS </a>LayoutID3 Node Textures Created<br><a style=\"color:green;\">SUCCESS </a>LayoutID0 Link Textures Created<br><a style=\"color:green;\">SUCCESS </a>LayoutID1 Link Textures Created<br><a style=\"color:green;\">SUCCESS </a>LayoutID2 Link Textures Created<br><a style=\"color:green;\">SUCCESS </a>LayoutID3 Link Textures Created<br><a style=\"color:green;\">SUCCESS </a>LayoutID0_links Link Textures Created<br><a style=\"color:green;\">SUCCESS </a>LayoutID1_links Link Textures Created<br><a style=\"color:green;\">SUCCESS </a>LayoutID2_links Link Textures Created<br><a style=\"color:green;\">SUCCESS </a>LayoutID3_links Link Textures Created<br>'"
      ]
     },
     "execution_count": 102,
     "metadata": {},
     "output_type": "execute_result"
    }
   ],
   "source": [
    "from uploaderGraph import upload_filesJSON\n",
    "\n",
    "upload_filesJSON(G_merged)"
   ]
  },
  {
   "cell_type": "code",
   "execution_count": null,
   "metadata": {},
   "outputs": [],
   "source": []
  },
  {
   "cell_type": "code",
   "execution_count": null,
   "metadata": {},
   "outputs": [],
   "source": []
  }
 ],
 "metadata": {
  "colab": {
   "name": "hypersphere_datanet.ipynb",
   "provenance": []
  },
  "kernelspec": {
   "display_name": "venv",
   "language": "python",
   "name": "python3"
  },
  "language_info": {
   "codemirror_mode": {
    "name": "ipython",
    "version": 3
   },
   "file_extension": ".py",
   "mimetype": "text/x-python",
   "name": "python",
   "nbconvert_exporter": "python",
   "pygments_lexer": "ipython3",
   "version": "3.9.10"
  }
 },
 "nbformat": 4,
 "nbformat_minor": 4
}
