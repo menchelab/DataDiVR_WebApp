{
 "cells": [
  {
   "attachments": {},
   "cell_type": "markdown",
   "metadata": {
    "tags": []
   },
   "source": [
    "# GENERATE A BACKEND PROJECT \n",
    "\n",
    "+ this notebook is a template to generate Backend-required files to view a project with the DataDiVR (preview or VR)\n",
    "+ STEP 1 and the \"create a graph\" section contains a template graph writing a required format (json) to then use the generate-project functions of the DataDiVR backend\n",
    "\n",
    "+ STEP 2 to actually generate BACKEND project files."
   ]
  },
  {
   "cell_type": "code",
   "execution_count": 2,
   "metadata": {},
   "outputs": [],
   "source": [
    "import networkx as nx\n",
    "import json \n",
    "import os\n",
    "\n",
    "# these are the two functions one needs to create a JSON file to upload and create the project in the backend \n",
    "import nx2json as nx2j \n",
    "import uploaderGraph as uG"
   ]
  },
  {
   "cell_type": "markdown",
   "metadata": {},
   "source": [
    "\n",
    "## How this is meant to be used:\n",
    "+ Create an nx.Graph with stored node positions (\"pos\") and colors (\"nodecolor\") and link colors (\"linkcolor\")\n",
    "\n",
    "+ set attributes in the nx.Graph accordingly\n",
    "\n",
    "+ then use the \"create_project\" function (down below to generate your project for the platform)"
   ]
  },
  {
   "cell_type": "markdown",
   "metadata": {},
   "source": [
    "# STEP 1a - Create Graphs with stored positions, colors etc. or use your own nx.Graphs"
   ]
  },
  {
   "cell_type": "markdown",
   "metadata": {},
   "source": [
    "### nx.Graph"
   ]
  },
  {
   "cell_type": "code",
   "execution_count": 3,
   "metadata": {},
   "outputs": [
    {
     "name": "stdout",
     "output_type": "stream",
     "text": [
      "Number of nodes:  10\n",
      "Number of Links:  17\n"
     ]
    }
   ],
   "source": [
    "G = nx.random_geometric_graph(10,0.5)\n",
    "print(\"Number of nodes: \", len(G.nodes()))\n",
    "print(\"Number of Links: \", len(G.edges()))\n",
    "\n",
    "# ===============================================\n",
    "# GRAPH NAME AND DESCRIPTION - a string each\n",
    "# ===============================================\n",
    "\n",
    "G.graph['projectname'] = \"ToyGraph_10nodes\"\n",
    "G.graph['info'] = \"A toy graph for testing purposes. Number of nodes: \"+str(len(G.nodes()))+\", Links: \"+ str(len(G.edges()))+\".\""
   ]
  },
  {
   "cell_type": "markdown",
   "metadata": {},
   "source": [
    "### create node anntotations"
   ]
  },
  {
   "cell_type": "code",
   "execution_count": 4,
   "metadata": {},
   "outputs": [],
   "source": [
    "import random \n",
    "def generate_random_words(num):\n",
    "    words = [\"alpha\", \"beta\", \"gamma\", \"delta\", \"epsilon\", \"zeta\", \"theta\", \"lambda\", \"mu\", \"nu\"]\n",
    "    return random.sample(words, num)\n",
    "\n",
    "# Create a list to hold annotations in JSON format\n",
    "l_annotations_json = []\n",
    "\n",
    "# Process each node in the graph\n",
    "for g in G.nodes():\n",
    "    # Generate random annotations\n",
    "    annotations = {\n",
    "        \"annot1\": generate_random_words(random.randint(3, 4)),\n",
    "        \"annot2\": generate_random_words(random.randint(1, 2)),\n",
    "        \"annot3\": generate_random_words(random.randint(2, 3))\n",
    "    }\n",
    "    \n",
    "    l_annotations_json.append(annotations)\n",
    "\n",
    "# Create a dictionary mapping nodes to their annotations\n",
    "d_annotations = dict(zip(G.nodes(), l_annotations_json))\n",
    "\n",
    "# Set the node attributes in the graph\n",
    "nx.set_node_attributes(G, d_annotations, name=\"annotation\")\n"
   ]
  },
  {
   "cell_type": "markdown",
   "metadata": {},
   "source": [
    "### create node positions and set as \"pos\" Graph attribute \n",
    "here are 3 different layouts, which all are stored in unique nx.Graph-objects (G_rgba, G_hex, ....)"
   ]
  },
  {
   "cell_type": "code",
   "execution_count": 5,
   "metadata": {},
   "outputs": [],
   "source": [
    "# First layout (i.e. Graph 1)\n",
    "G_rgba = G.copy()\n",
    "G_rgba.graph[\"layoutname\"] ='layout1-spring'\n",
    "posG3D_1_pre = nx.spring_layout(G, dim=3, k=0.1, iterations=100)\n",
    "posG3D_1 = {key: value.tolist() for key, value in posG3D_1_pre.items()}\n",
    "nx.set_node_attributes(G_rgba, posG3D_1, name=\"pos\")\n",
    "\n",
    "\n",
    "# Second layout (i.e. Graph 2)\n",
    "G_hex = G.copy()\n",
    "G_hex.graph[\"layoutname\"] = 'layout2-spring'\n",
    "posG3D_2_pre = nx.spring_layout(G, dim=3, k=0.1, iterations=200)\n",
    "posG3D_2= {key: value.tolist() for key, value in posG3D_2_pre.items()}\n",
    "nx.set_node_attributes(G_hex, posG3D_2, name=\"pos\")\n",
    "\n",
    "\n",
    "# Third layout (i.e. Graph 3)\n",
    "G_hex8 = G.copy()\n",
    "G_hex8.graph[\"layoutname\"] = 'layout3-spring'\n",
    "posG3D_3_pre = nx.spring_layout(G, dim=3, k=0.1, iterations=500)\n",
    "posG3D_3 = {key: value.tolist() for key, value in posG3D_3_pre.items()}\n",
    "nx.set_node_attributes(G_hex8, posG3D_3, name=\"pos\")\n",
    "\n",
    "\n",
    "# Fourth layout (i.e. Graph 4) - with clusters\n",
    "G_clusters = G.copy()\n",
    "G_clusters.graph[\"layoutname\"] = 'layout4-clusters'\n",
    "clustername_1 = 'cluster group 1'\n",
    "clustername_2 = 'cluster group 2'\n",
    "clustername_3 = 'cluster group 3'\n",
    "\n",
    "# nodes into groups\n",
    "for g in G_clusters.nodes():\n",
    "    if g < len(G_clusters.nodes()) / 3:\n",
    "        G_clusters.nodes[g]['cluster'] = clustername_1\n",
    "    elif g < 2 * len(G_clusters.nodes()) / 3:\n",
    "        G_clusters.nodes[g]['cluster'] = clustername_2\n",
    "    else:\n",
    "        G_clusters.nodes[g]['cluster'] = clustername_3\n",
    "\n",
    "nx.set_node_attributes(G_clusters, posG3D_2, name=\"pos\")"
   ]
  },
  {
   "cell_type": "markdown",
   "metadata": {},
   "source": [
    "#### node and link colors "
   ]
  },
  {
   "cell_type": "code",
   "execution_count": 6,
   "metadata": {},
   "outputs": [],
   "source": [
    "# 3 Formats of colors values are supported: hex, rgba, hex8\n",
    "\n",
    "# FIRST GRAPH - rgba color values\n",
    "d_nodecolors_rgba = dict(zip(G_rgba.nodes(),[(255,35,0,120)]*len(G_rgba.nodes())))\n",
    "nx.set_node_attributes(G_rgba, d_nodecolors_rgba, name=\"nodecolor\")\n",
    "l_linkcolors_rgba = (0,255,0,100)\n",
    "nx.set_edge_attributes(G_rgba, l_linkcolors_rgba, name=\"linkcolor\")\n",
    "\n",
    "\n",
    "# SECOND GRAPH - hex color values \n",
    "d_nodecolors_hex = dict(zip(G_hex.nodes(),['#FF2300']*len(G_hex.nodes())))\n",
    "nx.set_node_attributes(G_hex, d_nodecolors_hex, name=\"nodecolor\")\n",
    "l_linkcolors_hex = '#ff0000'\n",
    "nx.set_edge_attributes(G_hex, l_linkcolors_hex, name=\"linkcolor\")\n",
    "\n",
    "\n",
    "# THIRD GRAPH - hex8 color values\n",
    "d_nodecolors_hex8 = dict(zip(G_hex8.nodes(),['#0000ff60']*len(G_hex8.nodes())))\n",
    "nx.set_node_attributes(G_hex8, d_nodecolors_hex8, name=\"nodecolor\")\n",
    "l_linkcolors_hex8 = '#0080ff30'\n",
    "nx.set_edge_attributes(G_hex8, l_linkcolors_hex8, name=\"linkcolor\")\n",
    "\n",
    "\n",
    "# FOURTH GRAPH - clusters assigned \n",
    "\n",
    "# node colors \n",
    "d_nodecolors_clusters = {}\n",
    "nodes_group1 = []\n",
    "nodes_group2 = []\n",
    "nodes_group3 = []\n",
    "for n in G_clusters.nodes(): \n",
    "    if G_clusters.nodes[n]['cluster'] == clustername_1:\n",
    "        d_nodecolors_clusters[n] = '#0000ff'\n",
    "        nodes_group1.append(n)\n",
    "    elif G_clusters.nodes[n]['cluster'] == clustername_2:\n",
    "        d_nodecolors_clusters[n] = '#00ff00'\n",
    "        nodes_group2.append(n)\n",
    "    elif G_clusters.nodes[n]['cluster'] == clustername_3:\n",
    "        d_nodecolors_clusters[n] = '#ff0000'\n",
    "        nodes_group3.append(n)\n",
    "\n",
    "# link colors\n",
    "d_linkcolors_clusters = {}\n",
    "for edge in G_clusters.edges():\n",
    "    if edge[0] in nodes_group1 and edge[1] in nodes_group1:\n",
    "        d_linkcolors_clusters[edge] = '#0000ff'\n",
    "       \n",
    "    elif edge[0] in nodes_group2 and edge[1] in nodes_group2:\n",
    "        d_linkcolors_clusters[edge] = '#00ff00'\n",
    "       \n",
    "    elif edge[0] in nodes_group3 and edge[1] in nodes_group3:\n",
    "        d_linkcolors_clusters[edge] = '#ff0000'\n",
    "       \n",
    "    else:\n",
    "        d_linkcolors_clusters[edge] = (0,0,0,0)\n",
    "\n",
    "l_linkcolors_clusters = list(d_linkcolors_clusters.values())\n",
    "\n",
    "nx.set_node_attributes(G_clusters, d_nodecolors_clusters, name=\"nodecolor\")\n",
    "nx.set_edge_attributes(G_clusters, {edge: color for edge, color in zip(G_clusters.edges(), l_linkcolors_clusters)}, \"linkcolor\")\n"
   ]
  },
  {
   "cell_type": "code",
   "execution_count": 7,
   "metadata": {},
   "outputs": [
    {
     "name": "stdout",
     "output_type": "stream",
     "text": [
      "Number of links after dropping:  7\n"
     ]
    }
   ],
   "source": [
    "# dropping random links in a graph to test visualization of links and if links.json is complete\n",
    "num_links_to_drop = 10\n",
    "links_to_drop = random.sample(list(G_hex.edges()), num_links_to_drop)\n",
    "G_hex.remove_edges_from(links_to_drop)\n",
    "\n",
    "print(\"Number of links after dropping: \", len(G_hex.edges()))"
   ]
  },
  {
   "cell_type": "code",
   "execution_count": 8,
   "metadata": {},
   "outputs": [
    {
     "name": "stdout",
     "output_type": "stream",
     "text": [
      "Number of links after dropping:  10\n"
     ]
    }
   ],
   "source": [
    "# dropping random links in a graph \n",
    "num_links_to_drop = len(list(G_rgba.edges()))-10\n",
    "links_to_drop = random.sample(list(G_rgba.edges()), num_links_to_drop)\n",
    "G_rgba.remove_edges_from(links_to_drop)\n",
    "\n",
    "print(\"Number of links after dropping: \", len(G_rgba.edges()))"
   ]
  },
  {
   "cell_type": "markdown",
   "metadata": {},
   "source": [
    "### merge Graph files into one and store as a json file"
   ]
  },
  {
   "cell_type": "code",
   "execution_count": 9,
   "metadata": {},
   "outputs": [],
   "source": [
    "Graphs = [G_rgba, G_hex, G_hex8, G_clusters]"
   ]
  },
  {
   "cell_type": "code",
   "execution_count": 10,
   "metadata": {},
   "outputs": [
    {
     "data": {
      "text/plain": [
       "[<networkx.classes.graph.Graph at 0x127116700>,\n",
       " <networkx.classes.graph.Graph at 0x126fc6070>,\n",
       " <networkx.classes.graph.Graph at 0x127116490>,\n",
       " <networkx.classes.graph.Graph at 0x103d47760>]"
      ]
     },
     "execution_count": 10,
     "metadata": {},
     "output_type": "execute_result"
    }
   ],
   "source": [
    "Graphs"
   ]
  },
  {
   "cell_type": "markdown",
   "metadata": {},
   "source": [
    "# STEP 1b: use your own nx.Graph objects, store them in a list/file"
   ]
  },
  {
   "cell_type": "code",
   "execution_count": 11,
   "metadata": {},
   "outputs": [],
   "source": [
    "# store merged Graph objects in json-format for e.g. web-browser upload \n",
    "\n",
    "# from networkx.readwrite import json_graph\n",
    "\n",
    "####################################################\n",
    "# DEFINE FOLDER \n",
    "####################################################\n",
    "# tempfolder = \"temp-json\"\n",
    "# if not os.path.exists(tempfolder):\n",
    "#     os.makedirs(tempfolder)\n",
    "\n",
    "####################################################\n",
    "# WRITE nxJSON FILES\n",
    "####################################################\n",
    "# for G in Graphs:\n",
    "#     G_serializable = json_graph.node_link_data(G) # ensure json serializability\n",
    "#     with open(os.path.join(tempfolder,G.name + '.json'), 'w') as f:\n",
    "#         json.dump(G_serializable, f, indent=4)"
   ]
  },
  {
   "cell_type": "code",
   "execution_count": 12,
   "metadata": {},
   "outputs": [],
   "source": [
    "# # read json files from temp folder into a list of nx.Graph objects \n",
    "\n",
    "# Graphs = []\n",
    "# for file in os.listdir(tempfolder):\n",
    "#     if file.endswith(\".json\"):\n",
    "#         with open(os.path.join(tempfolder, file), 'r') as f:\n",
    "#             data = json.load(f)\n",
    "#             G = json_graph.node_link_graph(data)\n",
    "#             Graphs.append(G)\n",
    "\n",
    "# Graphs"
   ]
  },
  {
   "cell_type": "markdown",
   "metadata": {},
   "source": [
    "# CREATE A PROJECT WITH Nx.Graph object(s)"
   ]
  },
  {
   "cell_type": "code",
   "execution_count": 13,
   "metadata": {},
   "outputs": [
    {
     "name": "stdout",
     "output_type": "stream",
     "text": [
      "Creating Project...\n",
      "Successfully created the directory static/projects/ToyGraph_10nodes \n",
      "Project created successfully.\n"
     ]
    }
   ],
   "source": [
    "nx2j.create_project(Graphs)"
   ]
  },
  {
   "cell_type": "markdown",
   "metadata": {},
   "source": [
    "# BACKGROUND INFO: \n",
    "Find the graph structure generated in this notebook based on nx.Graph input below. "
   ]
  },
  {
   "cell_type": "code",
   "execution_count": 13,
   "metadata": {},
   "outputs": [
    {
     "data": {
      "text/plain": [
       "'\\n\\n{\\n----------------------------------------\\nTHIS IS THE GENERAL GRAPH INFO SECTION\\n----------------------------------------\\n  \"directed\": false,\\n  \"multigraph\": false,\\n  \"projectname\": \"Testgraph\",\\n  \"info\": \"A toy graph for testing purposes. Number of nodes: 10, Links: 43.\",\\n  \"graphlayouts\": [\\n      \"layout1-spring\",\\n      \"layout2-spring\",\\n      \"layout3-spring\",\\n      \"layout4-clusters\"\\n  ],\\n  \"annotationTypes\": true,\\n  \"nodes\": [\\n   ----------------------------------------\\n   contains all nodes of the project\\n   ----------------------------------------\\n      {\\n          \"id\": 0,\\n          \"name\": 0,\\n          \"annotation\": \\n                {\\n                    \"annot1\": [\\n                        \"lambda\",\\n                        \"alpha\",\\n                        \"zeta\",\\n                        \"theta\"\\n                    ],\\n                    \"annot2\": [\\n                        \"delta\",\\n                        \"nu\"\\n                    ],\\n                    \"annot3\": [\\n                        \"mu\",\\n                        \"gamma\"\\n                    ]\\n          }\\n      },....\\n  ],\\n  \"links\": [\\n   ----------------------------------------\\n   contains all links of the project\\n   ----------------------------------------\\n      {\\n          \"id\": 0,\\n          \"source\": 0,\\n          \"target\": 1\\n      },\\n      {\\n          \"id\": 1,\\n          \"source\": 0,\\n          \"target\": 2\\n      },...\\n       ],\\n  \"layouts\": [\\n   ----------------------------------------\\n   contains all layouts of the project\\n   only contains nodes and links as well as colors specific to the layout\\n   ----------------------------------------\\n       {  \"layoutname\" : \"name of first layout\",\\n          \"nodes\": [\\n              {\\n                  \"nodecolor\": [\\n                      255,\\n                      35,\\n                      0,\\n                      120\\n                  ],\\n                  \"pos\": [\\n                      -0.5618057865250979,\\n                      0.1467411221839164,\\n                      0.49656801102094605\\n                  ],\\n                  \"id\": 0\\n               },...\\n        \\t],\\n          \"links\": [\\n              {\\n                  \"linkcolor\": [\\n                      0,\\n                      255,\\n                      0,\\n                      100\\n                  ],\\n                  \"source\": 0,\\n                  \"target\": 1\\n              },...\\n         \\t],\\n   \\t  }, {\\n          \"layoutname\" : \"name of second layout\",\\n          \"nodes\": [\\n              {\\n                  \"nodecolor\": \"#0000ffaa\",\\n                  \"pos\": [\\n                      -0.35948900932978317,\\n                      0.6255258442839948,\\n                      -0.04209289102217994\\n                  ],\\n                  \"cluster\": \"cluster group 1\",\\n                  \"id\": 0\\n               },... \\n],\\n          \"links\": [\\n              {\\n                  \"linkcolor\": \"#0000ff\",\\n                  \"source\": 0,\\n                  \"target\": 1\\n              },\\n],\\n  \\t   }, { . . .  \\n \\t},\\n}\\n\\n'"
      ]
     },
     "execution_count": 13,
     "metadata": {},
     "output_type": "execute_result"
    }
   ],
   "source": [
    "'''\n",
    "\n",
    "{\n",
    "----------------------------------------\n",
    "THIS IS THE GENERAL GRAPH INFO SECTION\n",
    "----------------------------------------\n",
    "  \"directed\": false,\n",
    "  \"multigraph\": false,\n",
    "  \"projectname\": \"Testgraph\",\n",
    "  \"info\": \"A toy graph for testing purposes. Number of nodes: 10, Links: 43.\",\n",
    "  \"graphlayouts\": [\n",
    "      \"layout1-spring\",\n",
    "      \"layout2-spring\",\n",
    "      \"layout3-spring\",\n",
    "      \"layout4-clusters\"\n",
    "  ],\n",
    "  \"annotationTypes\": true,\n",
    "  \"nodes\": [\n",
    "   ----------------------------------------\n",
    "   contains all nodes of the project\n",
    "   ----------------------------------------\n",
    "      {\n",
    "          \"id\": 0,\n",
    "          \"name\": 0,\n",
    "          \"annotation\": \n",
    "                {\n",
    "                    \"annot1\": [\n",
    "                        \"lambda\",\n",
    "                        \"alpha\",\n",
    "                        \"zeta\",\n",
    "                        \"theta\"\n",
    "                    ],\n",
    "                    \"annot2\": [\n",
    "                        \"delta\",\n",
    "                        \"nu\"\n",
    "                    ],\n",
    "                    \"annot3\": [\n",
    "                        \"mu\",\n",
    "                        \"gamma\"\n",
    "                    ]\n",
    "          }\n",
    "      },....\n",
    "  ],\n",
    "  \"links\": [\n",
    "   ----------------------------------------\n",
    "   contains all links of the project\n",
    "   ----------------------------------------\n",
    "      {\n",
    "          \"id\": 0,\n",
    "          \"source\": 0,\n",
    "          \"target\": 1\n",
    "      },\n",
    "      {\n",
    "          \"id\": 1,\n",
    "          \"source\": 0,\n",
    "          \"target\": 2\n",
    "      },...\n",
    "       ],\n",
    "  \"layouts\": [\n",
    "   ----------------------------------------\n",
    "   contains all layouts of the project\n",
    "   only contains nodes and links as well as colors specific to the layout\n",
    "   ----------------------------------------\n",
    "       {  \"layoutname\" : \"name of first layout\",\n",
    "          \"nodes\": [\n",
    "              {\n",
    "                  \"nodecolor\": [\n",
    "                      255,\n",
    "                      35,\n",
    "                      0,\n",
    "                      120\n",
    "                  ],\n",
    "                  \"pos\": [\n",
    "                      -0.5618057865250979,\n",
    "                      0.1467411221839164,\n",
    "                      0.49656801102094605\n",
    "                  ],\n",
    "                  \"id\": 0\n",
    "               },...\n",
    "        \t],\n",
    "          \"links\": [\n",
    "              {\n",
    "                  \"linkcolor\": [\n",
    "                      0,\n",
    "                      255,\n",
    "                      0,\n",
    "                      100\n",
    "                  ],\n",
    "                  \"source\": 0,\n",
    "                  \"target\": 1\n",
    "              },...\n",
    "         \t],\n",
    "   \t  }, {\n",
    "          \"layoutname\" : \"name of second layout\",\n",
    "          \"nodes\": [\n",
    "              {\n",
    "                  \"nodecolor\": \"#0000ffaa\",\n",
    "                  \"pos\": [\n",
    "                      -0.35948900932978317,\n",
    "                      0.6255258442839948,\n",
    "                      -0.04209289102217994\n",
    "                  ],\n",
    "                  \"cluster\": \"cluster group 1\",\n",
    "                  \"id\": 0\n",
    "               },... \n",
    "],\n",
    "          \"links\": [\n",
    "              {\n",
    "                  \"linkcolor\": \"#0000ff\",\n",
    "                  \"source\": 0,\n",
    "                  \"target\": 1\n",
    "              },\n",
    "],\n",
    "  \t   }, { . . .  \n",
    " \t},\n",
    "}\n",
    "\n",
    "'''"
   ]
  },
  {
   "cell_type": "markdown",
   "metadata": {},
   "source": [
    "## CREATE A JSON FILE WITH THE ABOVE STRUCTURE to then create a project"
   ]
  },
  {
   "cell_type": "code",
   "execution_count": 12,
   "metadata": {},
   "outputs": [],
   "source": [
    "import networkx as nx\n",
    "import json \n",
    "import os\n",
    "\n",
    "# these are the two functions one needs to create a JSON file to upload and then create the project in the backend \n",
    "import nx2json as nx2j \n",
    "import uploaderGraph as uG"
   ]
  },
  {
   "cell_type": "code",
   "execution_count": 15,
   "metadata": {},
   "outputs": [],
   "source": [
    "# ----------------------------------------\n",
    "# CREATE Json file\n",
    "# ----------------------------------------\n",
    "merged_graphs = nx2j.make_json(Graphs)\n",
    "path = \"temp_files/\"\n",
    "\n",
    "# save the merged graph in a json file\n",
    "with open(path+Graphs[0].graph['projectname']+'.json', 'w') as fp:\n",
    "    json.dump(merged_graphs, fp, indent=4)"
   ]
  },
  {
   "cell_type": "code",
   "execution_count": null,
   "metadata": {},
   "outputs": [],
   "source": [
    "# ----------------------------------------\n",
    "# READ Json file\n",
    "# ----------------------------------------\n",
    "filename = 'myfile.json'\n",
    "currentwd = '.../DataDiVR_Webapp/temp_files/' # modify file location here\n",
    "path = os.path.join(currentwd, filename)\n",
    "\n",
    "# open the json file\n",
    "with open(path, 'r') as f:\n",
    "     G_merged = json.load(f)"
   ]
  },
  {
   "cell_type": "code",
   "execution_count": null,
   "metadata": {},
   "outputs": [],
   "source": [
    "## ----------------------------------------\n",
    "# CREATE A PROJECT for the VR Platform \n",
    "# ----------------------------------------\n",
    "#the actual \"upload step\" to create a project with the required VR platform files \n",
    "\n",
    "uG.upload_filesJSON(G_merged)"
   ]
  },
  {
   "cell_type": "markdown",
   "metadata": {},
   "source": []
  },
  {
   "cell_type": "code",
   "execution_count": null,
   "metadata": {},
   "outputs": [],
   "source": []
  },
  {
   "cell_type": "code",
   "execution_count": null,
   "metadata": {},
   "outputs": [],
   "source": []
  },
  {
   "cell_type": "code",
   "execution_count": null,
   "metadata": {},
   "outputs": [],
   "source": []
  },
  {
   "cell_type": "code",
   "execution_count": null,
   "metadata": {},
   "outputs": [],
   "source": []
  },
  {
   "cell_type": "code",
   "execution_count": null,
   "metadata": {},
   "outputs": [],
   "source": []
  }
 ],
 "metadata": {
  "colab": {
   "name": "hypersphere_datanet.ipynb",
   "provenance": []
  },
  "kernelspec": {
   "display_name": "venv",
   "language": "python",
   "name": "python3"
  },
  "language_info": {
   "codemirror_mode": {
    "name": "ipython",
    "version": 3
   },
   "file_extension": ".py",
   "mimetype": "text/x-python",
   "name": "python",
   "nbconvert_exporter": "python",
   "pygments_lexer": "ipython3",
   "version": "3.9.10"
  }
 },
 "nbformat": 4,
 "nbformat_minor": 4
}
