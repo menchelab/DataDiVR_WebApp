{
 "cells": [
  {
   "cell_type": "code",
   "execution_count": 1,
   "metadata": {},
   "outputs": [],
   "source": [
    "import nx2json as nx2j\n",
    "import os\n",
    "from networkx.readwrite import json_graph\n",
    "import json"
   ]
  },
  {
   "cell_type": "markdown",
   "metadata": {},
   "source": [
    "# HOW TO CREATE A PROJECT with nx.GRAPH OBJECTS "
   ]
  },
  {
   "cell_type": "code",
   "execution_count": 2,
   "metadata": {},
   "outputs": [],
   "source": [
    "#\n",
    "#\n",
    "#\n",
    "# code to generate Graphs .... \n",
    "#\n",
    "#\n",
    "#\n",
    "\n",
    "#Graphs_for_VR = .... # a list with your nx.Graph objects \n",
    "#Graphs_for_VR "
   ]
  },
  {
   "cell_type": "code",
   "execution_count": null,
   "metadata": {},
   "outputs": [
    {
     "ename": "",
     "evalue": "",
     "output_type": "error",
     "traceback": [
      "\u001b[1;31mRunning cells with 'venv (Python 3.9.0)' requires the ipykernel package.\n",
      "\u001b[1;31mRun the following command to install 'ipykernel' into the Python environment. \n",
      "\u001b[1;31mCommand: '\"i:/Unreal Projects/VRNetzer2_backend/venv/Scripts/python.exe\" -m pip install ipykernel -U --force-reinstall'"
     ]
    }
   ],
   "source": [
    "# define location \n",
    "tempfolder = \"temp-json\"\n",
    "if not os.path.exists(tempfolder):\n",
    "    os.makedirs(tempfolder)\n",
    "\n",
    "\n",
    "###################################################################\n",
    "# S T O R E   G R A P H S   A S   J S O N\n",
    "###################################################################\n",
    "\"\"\" \n",
    "for G in Graphs_for_VR:\n",
    "    G_serializable = json_graph.node_link_data(G) # ensure json serializability\n",
    "    with open(os.path.join(tempfolder,G.name + '.json'), 'w') as f:\n",
    "        json.dump(G_serializable, f, indent=4) \"\"\"\n",
    "        \n",
    "###################################################################\n",
    "# R E A D   G R A P H S   F R O M  T E M P S T O R E D  J S O N\n",
    "###################################################################\n",
    "# read json files from temp folder into a list of nx.Graph objects \n",
    "Graphs_for_VR = []\n",
    "for file in os.listdir(tempfolder):\n",
    "    if file.endswith(\".json\"):\n",
    "        with open(os.path.join(tempfolder, file), 'r') as f:\n",
    "            data = json.load(f)\n",
    "            G = json_graph.node_link_graph(data)\n",
    "            Graphs_for_VR.append(G)"
   ]
  },
  {
   "cell_type": "code",
   "execution_count": 4,
   "metadata": {},
   "outputs": [],
   "source": [
    "# set \"projectname\"\n",
    "projectname = 'CDK5_SMICH'\n",
    "for G in Graphs_for_VR:\n",
    "   G.graph['projectname'] = projectname\n",
    "   G.graph['info'] = \"CDK5, a cyclin-dependent kinase, plays a crucial role in the nervous system. It is primarily expressed in neurons and is activated by binding to specific cyclins. CDK5 is involved in a multitude of neuronal processes, including neurite outgrowth, synapse formation, and neurotransmitter release. Dysregulation of CDK5 has been implicated in various neurological disorders. Overactivation of CDK5 is associated with neurodegenerative diseases like Alzheimer's and Parkinson's, while reduced CDK5 activity is linked to intellectual disability and impaired cognitive function. Understanding the complex roles of CDK5 in neuronal pathways is essential for developing therapeutic strategies for these conditions.\""
   ]
  },
  {
   "cell_type": "code",
   "execution_count": 5,
   "metadata": {},
   "outputs": [
    {
     "name": "stdout",
     "output_type": "stream",
     "text": [
      "Successfully created the directory static/projects/CDK5_SMICH \n",
      "PROGRESS: loaded graph JSON...\n",
      "PROGRESS: stored graph data...\n",
      "PROGRESS: stored layouts...\n",
      "PROGRESS: stored node info...\n",
      "PROGRESS: made node position textures...\n",
      "PROGRESS: made textures for node colors...\n",
      "PROGRESS: stored link textures...\n",
      "PROGRESS: stored all links in json...\n",
      "PROGRESS: stored links textures...\n",
      "PROGRESS: writing json files for project and nodes...\n",
      "Project created successfully.\n"
     ]
    }
   ],
   "source": [
    "nx2j.create_project(Graphs_for_VR)"
   ]
  },
  {
   "cell_type": "code",
   "execution_count": null,
   "metadata": {},
   "outputs": [],
   "source": []
  },
  {
   "cell_type": "code",
   "execution_count": null,
   "metadata": {},
   "outputs": [],
   "source": []
  },
  {
   "cell_type": "code",
   "execution_count": null,
   "metadata": {},
   "outputs": [],
   "source": []
  }
 ],
 "metadata": {
  "colab": {
   "name": "hypersphere_datanet.ipynb",
   "provenance": []
  },
  "kernelspec": {
   "display_name": "venv",
   "language": "python",
   "name": "python3"
  },
  "language_info": {
   "codemirror_mode": {
    "name": "ipython",
    "version": 3
   },
   "file_extension": ".py",
   "mimetype": "text/x-python",
   "name": "python",
   "nbconvert_exporter": "python",
   "pygments_lexer": "ipython3",
   "version": "3.9.0"
  }
 },
 "nbformat": 4,
 "nbformat_minor": 4
}
