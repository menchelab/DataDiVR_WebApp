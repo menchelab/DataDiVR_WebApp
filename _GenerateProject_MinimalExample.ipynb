{
 "cells": [
  {
   "cell_type": "code",
   "execution_count": 1,
   "metadata": {},
   "outputs": [],
   "source": [
    "import nx2json as nx2j\n",
    "import os\n",
    "from networkx.readwrite import json_graph\n",
    "import json"
   ]
  },
  {
   "cell_type": "markdown",
   "metadata": {},
   "source": [
    "# HOW TO CREATE A PROJECT with nx.GRAPH OBJECTS "
   ]
  },
  {
   "cell_type": "code",
   "execution_count": 12,
   "metadata": {},
   "outputs": [
    {
     "data": {
      "text/plain": [
       "[<networkx.classes.graph.Graph at 0x7fc3413e4700>,\n",
       " <networkx.classes.graph.Graph at 0x7fc342dbf310>,\n",
       " <networkx.classes.graph.Graph at 0x7fc344010bb0>,\n",
       " <networkx.classes.graph.Graph at 0x7fc343997eb0>]"
      ]
     },
     "execution_count": 12,
     "metadata": {},
     "output_type": "execute_result"
    }
   ],
   "source": [
    "#\n",
    "#\n",
    "#\n",
    "# code to generate Graphs .... \n",
    "#\n",
    "#\n",
    "#\n",
    "\n",
    "Graphs_for_VR = .... # a list with your nx.Graph objects \n",
    "Graphs_for_VR "
   ]
  },
  {
   "cell_type": "code",
   "execution_count": 3,
   "metadata": {},
   "outputs": [],
   "source": [
    "# define location \n",
    "tempfolder = \"temp-json\"\n",
    "if not os.path.exists(tempfolder):\n",
    "    os.makedirs(tempfolder)\n",
    "\n",
    "\n",
    "###################################################################\n",
    "# S T O R E   G R A P H S   A S   J S O N\n",
    "###################################################################\n",
    "\"\"\" \n",
    "for G in Graphs_for_VR:\n",
    "    G_serializable = json_graph.node_link_data(G) # ensure json serializability\n",
    "    with open(os.path.join(tempfolder,G.name + '.json'), 'w') as f:\n",
    "        json.dump(G_serializable, f, indent=4) \"\"\"\n",
    "        \n",
    "###################################################################\n",
    "# R E A D   G R A P H S   F R O M  T E M P S T O R E D  J S O N\n",
    "###################################################################\n",
    "# read json files from temp folder into a list of nx.Graph objects \n",
    "Graphs_for_VR = []\n",
    "for file in os.listdir(tempfolder):\n",
    "    if file.endswith(\".json\"):\n",
    "        with open(os.path.join(tempfolder, file), 'r') as f:\n",
    "            data = json.load(f)\n",
    "            G = json_graph.node_link_graph(data)\n",
    "            Graphs_for_VR.append(G)"
   ]
  },
  {
   "cell_type": "code",
   "execution_count": 9,
   "metadata": {},
   "outputs": [],
   "source": [
    "# set \"projectname\"\n",
    "projectname = 'ArsElectonica_Interactome'\n",
    "for G in Graphs_for_VR:\n",
    "   G.graph['projectname'] = projectname\n",
    "   G.graph['info'] = \"A Project for the Deepspace8k at the Ars Electronica Center, shown at the Festival in 2022.\""
   ]
  },
  {
   "cell_type": "code",
   "execution_count": 10,
   "metadata": {},
   "outputs": [
    {
     "name": "stdout",
     "output_type": "stream",
     "text": [
      "Creating Project...\n",
      "Successfully created the directory static/projects/ArsElectonica_Interactome \n",
      "Project created successfully.\n"
     ]
    }
   ],
   "source": [
    "nx2j.create_project(Graphs_for_VR)"
   ]
  },
  {
   "cell_type": "code",
   "execution_count": null,
   "metadata": {},
   "outputs": [],
   "source": []
  },
  {
   "cell_type": "code",
   "execution_count": null,
   "metadata": {},
   "outputs": [],
   "source": []
  }
 ],
 "metadata": {
  "colab": {
   "name": "hypersphere_datanet.ipynb",
   "provenance": []
  },
  "kernelspec": {
   "display_name": "venv",
   "language": "python",
   "name": "python3"
  },
  "language_info": {
   "codemirror_mode": {
    "name": "ipython",
    "version": 3
   },
   "file_extension": ".py",
   "mimetype": "text/x-python",
   "name": "python",
   "nbconvert_exporter": "python",
   "pygments_lexer": "ipython3",
   "version": "3.9.10"
  }
 },
 "nbformat": 4,
 "nbformat_minor": 4
}
