{
 "cells": [
  {
   "cell_type": "code",
   "execution_count": 11,
   "metadata": {},
   "outputs": [],
   "source": [
    "import nx2json as nx2j"
   ]
  },
  {
   "cell_type": "code",
   "execution_count": 12,
   "metadata": {},
   "outputs": [
    {
     "data": {
      "text/plain": [
       "[<networkx.classes.graph.Graph at 0x7fc3413e4700>,\n",
       " <networkx.classes.graph.Graph at 0x7fc342dbf310>,\n",
       " <networkx.classes.graph.Graph at 0x7fc344010bb0>,\n",
       " <networkx.classes.graph.Graph at 0x7fc343997eb0>]"
      ]
     },
     "execution_count": 12,
     "metadata": {},
     "output_type": "execute_result"
    }
   ],
   "source": [
    "# this is where my Graphs are stored (essentially a list of nx.Graph objects)\n",
    "\n",
    "Graphs_for_VR = .... # a list with your nx.Graph objects \n",
    "Graphs_for_VR "
   ]
  },
  {
   "cell_type": "code",
   "execution_count": 13,
   "metadata": {},
   "outputs": [],
   "source": [
    "# set \"projectname\" (optional)\n",
    "projectname = 'myproject'\n",
    "for G in Graphs_for_VR:\n",
    "    G.graph['projectname'] = projectname"
   ]
  },
  {
   "cell_type": "code",
   "execution_count": null,
   "metadata": {},
   "outputs": [],
   "source": [
    "nx2j.create_project(Graphs_for_VR)"
   ]
  },
  {
   "cell_type": "code",
   "execution_count": null,
   "metadata": {},
   "outputs": [],
   "source": []
  },
  {
   "cell_type": "code",
   "execution_count": null,
   "metadata": {},
   "outputs": [],
   "source": []
  }
 ],
 "metadata": {
  "colab": {
   "name": "hypersphere_datanet.ipynb",
   "provenance": []
  },
  "kernelspec": {
   "display_name": "c_env",
   "language": "python",
   "name": "c_env"
  },
  "language_info": {
   "codemirror_mode": {
    "name": "ipython",
    "version": 3
   },
   "file_extension": ".py",
   "mimetype": "text/x-python",
   "name": "python",
   "nbconvert_exporter": "python",
   "pygments_lexer": "ipython3",
   "version": "3.8.2"
  }
 },
 "nbformat": 4,
 "nbformat_minor": 4
}
