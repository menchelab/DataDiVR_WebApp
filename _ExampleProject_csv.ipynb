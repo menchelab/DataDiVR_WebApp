{
 "cells": [
  {
   "attachments": {},
   "cell_type": "markdown",
   "metadata": {
    "tags": []
   },
   "source": [
    "# use CSV upload web browser"
   ]
  },
  {
   "cell_type": "code",
   "execution_count": 1,
   "metadata": {},
   "outputs": [],
   "source": [
    "import networkx as nx\n",
    "import json \n",
    "import os\n",
    "\n",
    "# these are the two functions one needs to create a JSON file to upload and create the project in the backend \n",
    "import nx2json as nx2j\n",
    "import uploaderGraph as uG"
   ]
  },
  {
   "cell_type": "markdown",
   "metadata": {},
   "source": [
    "# CREATE A NX.GRAPH OBJECT per layout"
   ]
  },
  {
   "cell_type": "markdown",
   "metadata": {},
   "source": [
    "### nx.Graph"
   ]
  },
  {
   "cell_type": "code",
   "execution_count": 2,
   "metadata": {},
   "outputs": [
    {
     "name": "stdout",
     "output_type": "stream",
     "text": [
      "Number of nodes:  400\n",
      "Number of Links:  600\n"
     ]
    }
   ],
   "source": [
    "G = nx.circular_ladder_graph(200)\n",
    "print(\"Number of nodes: \", len(G.nodes()))\n",
    "print(\"Number of Links: \", len(G.edges()))\n",
    "\n",
    "# ===============================================\n",
    "# GRAPH NAME AND DESCRIPTION - a string each\n",
    "# ===============================================\n",
    "\n",
    "G.graph['projectname'] = \"CircularLadder-csv\"\n",
    "G.graph['info'] = \"A toy graph for testing purposes. Number of nodes: \"+str(len(G.nodes()))+\", Links: \"+ str(len(G.edges()))+\".\""
   ]
  },
  {
   "cell_type": "code",
   "execution_count": 3,
   "metadata": {},
   "outputs": [],
   "source": [
    "#nx.draw(G)"
   ]
  },
  {
   "cell_type": "markdown",
   "metadata": {},
   "source": [
    "### create node anntotations"
   ]
  },
  {
   "cell_type": "code",
   "execution_count": 4,
   "metadata": {},
   "outputs": [],
   "source": [
    "import random \n",
    "def generate_random_words(num):\n",
    "    words = [\"alpha\", \"beta\", \"gamma\", \"delta\", \"epsilon\", \"zeta\", \"theta\", \"lambda\", \"mu\", \"nu\"]\n",
    "    return random.sample(words, num)\n",
    "\n",
    "# Create a list to hold annotations in JSON format\n",
    "l_annotations_json = []\n",
    "\n",
    "# Process each node in the graph\n",
    "for g in G.nodes():\n",
    "    # Generate random annotations\n",
    "    annotations = {\n",
    "        \"annot1\": generate_random_words(random.randint(3, 4)),\n",
    "        \"annot2\": generate_random_words(random.randint(1, 2)),\n",
    "        \"annot3\": generate_random_words(random.randint(2, 3))\n",
    "    }\n",
    "    \n",
    "    l_annotations_json.append(annotations)\n",
    "\n",
    "# Create a dictionary mapping nodes to their annotations\n",
    "d_annotations = dict(zip(G.nodes(), l_annotations_json))\n",
    "\n",
    "# Set the node attributes in the graph\n",
    "nx.set_node_attributes(G, d_annotations, name=\"annotation\")"
   ]
  },
  {
   "cell_type": "code",
   "execution_count": 5,
   "metadata": {},
   "outputs": [],
   "source": [
    "# set node names (optional)\n",
    "for n in G.nodes():\n",
    "    G.nodes[n]['name'] = \"Nodename_\"+str(n)"
   ]
  },
  {
   "cell_type": "markdown",
   "metadata": {},
   "source": [
    "### create node positions and set as \"pos\" Graph attribute \n",
    "here are 3 different layouts, which all are stored in unique nx.Graph-objects (G_rgba, G_hex, ....)"
   ]
  },
  {
   "cell_type": "code",
   "execution_count": 6,
   "metadata": {},
   "outputs": [],
   "source": [
    "# First layout (i.e. Graph 1)\n",
    "G_rgba = G.copy()\n",
    "G_rgba.graph[\"layoutname\"] ='layout1-spring'\n",
    "posG3D_1_pre = nx.spring_layout(G_rgba, dim=3, k=0.1, iterations=50)\n",
    "posG3D_1 = {key: value.tolist() for key, value in posG3D_1_pre.items()}\n",
    "nx.set_node_attributes(G_rgba, posG3D_1, name=\"pos\")"
   ]
  },
  {
   "cell_type": "markdown",
   "metadata": {},
   "source": [
    "#### node and link colors "
   ]
  },
  {
   "cell_type": "code",
   "execution_count": 7,
   "metadata": {},
   "outputs": [],
   "source": [
    "# 3 Formats of colors values are supported: hex, rgba, hex8\n",
    "\n",
    "d_nodecolors_rgba = dict(zip(G_rgba.nodes(),[(0,0,255,200)]*len(G_rgba.nodes())))\n",
    "nx.set_node_attributes(G_rgba, d_nodecolors_rgba, name=\"nodecolor\")\n",
    "l_linkcolors_rgba = (0,0,255,200)\n",
    "nx.set_edge_attributes(G_rgba, l_linkcolors_rgba, name=\"linkcolor\")"
   ]
  },
  {
   "cell_type": "markdown",
   "metadata": {},
   "source": [
    "# make CSV tables and export"
   ]
  },
  {
   "cell_type": "code",
   "execution_count": 8,
   "metadata": {},
   "outputs": [],
   "source": [
    "import pandas as pd\n",
    "\n",
    "# x y z \n",
    "df = pd.DataFrame(posG3D_1.values(), columns=['x', 'y', 'z'])\n",
    "df.to_csv(G_rgba.graph['layoutname']+'_node_table.csv', index=False, header = False)\n",
    "\n",
    "# r g b a\n",
    "df_colors = pd.DataFrame(d_nodecolors_rgba.values(), columns=['r', 'g', 'b', 'a'])\n",
    "df_colors.to_csv(G_rgba.graph['layoutname']+'_node_color.csv', index=False, header = False)\n",
    "\n",
    "# links\n",
    "df_links = pd.DataFrame([(u,v) for u,v in G_rgba.edges()], columns=['source', 'target'])\n",
    "df_links.to_csv(G_rgba.graph['layoutname']+'_link_table.csv', index=False, header = False)\n",
    "\n",
    "# link colors\n",
    "df_linkcolors = pd.DataFrame([l_linkcolors_rgba]*len(G_rgba.edges()), columns=['r', 'g', 'b', 'a'])\n",
    "df_linkcolors.to_csv(G_rgba.graph['layoutname']+'_link_color.csv', index=False, header = False)"
   ]
  },
  {
   "cell_type": "code",
   "execution_count": null,
   "metadata": {},
   "outputs": [],
   "source": []
  },
  {
   "cell_type": "code",
   "execution_count": null,
   "metadata": {},
   "outputs": [],
   "source": []
  },
  {
   "cell_type": "code",
   "execution_count": null,
   "metadata": {},
   "outputs": [],
   "source": []
  },
  {
   "cell_type": "code",
   "execution_count": null,
   "metadata": {},
   "outputs": [],
   "source": []
  },
  {
   "cell_type": "code",
   "execution_count": null,
   "metadata": {},
   "outputs": [],
   "source": []
  },
  {
   "cell_type": "code",
   "execution_count": null,
   "metadata": {},
   "outputs": [],
   "source": []
  },
  {
   "cell_type": "code",
   "execution_count": null,
   "metadata": {},
   "outputs": [],
   "source": []
  },
  {
   "cell_type": "code",
   "execution_count": null,
   "metadata": {},
   "outputs": [],
   "source": []
  },
  {
   "cell_type": "markdown",
   "metadata": {},
   "source": [
    "# THE FOLLOWING SECTION IS JUST FOR BACKGROUND INFO - no need to run\n",
    "This is how the graph is storing all information given nx.Graph(s)."
   ]
  },
  {
   "cell_type": "code",
   "execution_count": null,
   "metadata": {},
   "outputs": [],
   "source": [
    "'''\n",
    "\n",
    "{\n",
    "----------------------------------------\n",
    "THIS IS THE GENERAL GRAPH INFO SECTION\n",
    "----------------------------------------\n",
    "  \"directed\": false,\n",
    "  \"multigraph\": false,\n",
    "  \"projectname\": \"Testgraph\",\n",
    "  \"info\": \"A toy graph for testing purposes. Number of nodes: 10, Links: 43.\",\n",
    "  \"graphlayouts\": [\n",
    "      \"layout1-spring\",\n",
    "      \"layout2-spring\",\n",
    "      \"layout3-spring\",\n",
    "      \"layout4-clusters\"\n",
    "  ],\n",
    "  \"annotationTypes\": true,\n",
    "  \"nodes\": [\n",
    "   ----------------------------------------\n",
    "   contains all nodes of the project\n",
    "   ----------------------------------------\n",
    "      {\n",
    "          \"id\": 0,\n",
    "          \"name\": nodename-x,\n",
    "          \"annotation\": \n",
    "                {\n",
    "                    \"annot1\": [\n",
    "                        \"lambda\",\n",
    "                        \"alpha\",\n",
    "                        \"zeta\",\n",
    "                        \"theta\"\n",
    "                    ],\n",
    "                    \"annot2\": [\n",
    "                        \"delta\",\n",
    "                        \"nu\"\n",
    "                    ],\n",
    "                    \"annot3\": [\n",
    "                        \"mu\",\n",
    "                        \"gamma\"\n",
    "                    ]\n",
    "          }\n",
    "      },....\n",
    "  ],\n",
    "  \"links\": [\n",
    "   ----------------------------------------\n",
    "   contains all links of the project\n",
    "   ----------------------------------------\n",
    "      {\n",
    "          \"id\": 0,\n",
    "          \"source\": 0,\n",
    "          \"target\": 1\n",
    "      },\n",
    "      {\n",
    "          \"id\": 1,\n",
    "          \"source\": 0,\n",
    "          \"target\": 2\n",
    "      },...\n",
    "       ],\n",
    "  \"layouts\": [\n",
    "   ----------------------------------------\n",
    "   contains all layouts of the project\n",
    "   only contains nodes and links as well as colors specific to the layout\n",
    "   ----------------------------------------\n",
    "       {  \"layoutname\" : \"name of first layout\",\n",
    "          \"nodes\": [\n",
    "              {\n",
    "                  \"nodecolor\": [\n",
    "                      255,\n",
    "                      35,\n",
    "                      0,\n",
    "                      120\n",
    "                  ],\n",
    "                  \"pos\": [\n",
    "                      -0.5618057865250979,\n",
    "                      0.1467411221839164,\n",
    "                      0.49656801102094605\n",
    "                  ],\n",
    "                  \"id\": 0\n",
    "               },...\n",
    "        \t],\n",
    "          \"links\": [\n",
    "              {\n",
    "                  \"linkcolor\": [\n",
    "                      0,\n",
    "                      255,\n",
    "                      0,\n",
    "                      100\n",
    "                  ],\n",
    "                  \"source\": 0,\n",
    "                  \"target\": 1\n",
    "              },...\n",
    "         \t],\n",
    "   \t  }, {\n",
    "          \"layoutname\" : \"name of second layout\",\n",
    "          \"nodes\": [\n",
    "              {\n",
    "                  \"nodecolor\": \"#0000ffaa\",\n",
    "                  \"pos\": [\n",
    "                      -0.35948900932978317,\n",
    "                      0.6255258442839948,\n",
    "                      -0.04209289102217994\n",
    "                  ],\n",
    "                  \"cluster\": \"cluster group 1\",\n",
    "                  \"id\": 0\n",
    "               },... \n",
    "],\n",
    "          \"links\": [\n",
    "              {\n",
    "                  \"linkcolor\": \"#0000ff\",\n",
    "                  \"source\": 0,\n",
    "                  \"target\": 1\n",
    "              },\n",
    "],\n",
    "  \t   }, { . . .  \n",
    " \t},\n",
    "}\n",
    "\n",
    "'''"
   ]
  },
  {
   "cell_type": "markdown",
   "metadata": {},
   "source": [
    "## CREATE A JSON FILE WITH THE ABOVE STRUCTURE to then create a project"
   ]
  },
  {
   "cell_type": "code",
   "execution_count": 28,
   "metadata": {},
   "outputs": [],
   "source": [
    "import networkx as nx\n",
    "import json \n",
    "import os\n",
    "\n",
    "# these are the two functions one needs to create a JSON file to upload and then create the project in the backend \n",
    "import nx2json as nx2j \n",
    "import uploaderGraph as uG"
   ]
  },
  {
   "cell_type": "code",
   "execution_count": 14,
   "metadata": {},
   "outputs": [],
   "source": [
    "# ----------------------------------------\n",
    "# CREATE Json file\n",
    "# ----------------------------------------\n",
    "merged_graphs = nx2j.make_json(Graphs)\n",
    "path = \"temp_files/\"\n",
    "\n",
    "# save the merged graph in a json file\n",
    "with open(path+Graphs[0].graph['projectname']+'.json', 'w') as fp:\n",
    "    json.dump(merged_graphs, fp, indent=4)"
   ]
  },
  {
   "cell_type": "code",
   "execution_count": null,
   "metadata": {},
   "outputs": [],
   "source": []
  },
  {
   "cell_type": "code",
   "execution_count": null,
   "metadata": {},
   "outputs": [],
   "source": []
  },
  {
   "cell_type": "code",
   "execution_count": null,
   "metadata": {},
   "outputs": [],
   "source": []
  },
  {
   "cell_type": "code",
   "execution_count": null,
   "metadata": {},
   "outputs": [],
   "source": []
  },
  {
   "cell_type": "code",
   "execution_count": null,
   "metadata": {},
   "outputs": [],
   "source": [
    "# ----------------------------------------\n",
    "# READ Json file\n",
    "# ----------------------------------------\n",
    "filename = 'myfile.json'\n",
    "currentwd = '.../DataDiVR_Webapp/temp_files/' # modify file location here\n",
    "path = os.path.join(currentwd, filename)\n",
    "\n",
    "# open the json file\n",
    "with open(path, 'r') as f:\n",
    "     G_merged = json.load(f)"
   ]
  },
  {
   "cell_type": "code",
   "execution_count": null,
   "metadata": {},
   "outputs": [],
   "source": [
    "## ----------------------------------------\n",
    "# CREATE A PROJECT for the VR Platform \n",
    "# ----------------------------------------\n",
    "#the actual \"upload step\" to create a project with the required VR platform files \n",
    "\n",
    "uG.upload_filesJSON(G_merged)"
   ]
  },
  {
   "cell_type": "markdown",
   "metadata": {},
   "source": []
  },
  {
   "cell_type": "code",
   "execution_count": null,
   "metadata": {},
   "outputs": [],
   "source": []
  },
  {
   "cell_type": "code",
   "execution_count": null,
   "metadata": {},
   "outputs": [],
   "source": []
  },
  {
   "cell_type": "code",
   "execution_count": null,
   "metadata": {},
   "outputs": [],
   "source": []
  },
  {
   "cell_type": "code",
   "execution_count": null,
   "metadata": {},
   "outputs": [],
   "source": []
  },
  {
   "cell_type": "code",
   "execution_count": null,
   "metadata": {},
   "outputs": [],
   "source": []
  }
 ],
 "metadata": {
  "colab": {
   "name": "hypersphere_datanet.ipynb",
   "provenance": []
  },
  "kernelspec": {
   "display_name": "venv",
   "language": "python",
   "name": "python3"
  },
  "language_info": {
   "codemirror_mode": {
    "name": "ipython",
    "version": 3
   },
   "file_extension": ".py",
   "mimetype": "text/x-python",
   "name": "python",
   "nbconvert_exporter": "python",
   "pygments_lexer": "ipython3",
   "version": "3.9.10"
  }
 },
 "nbformat": 4,
 "nbformat_minor": 4
}
